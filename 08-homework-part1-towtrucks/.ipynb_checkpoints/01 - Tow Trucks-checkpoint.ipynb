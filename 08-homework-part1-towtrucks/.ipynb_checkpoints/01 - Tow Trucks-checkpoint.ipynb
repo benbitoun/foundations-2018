{
 "cells": [
  {
   "cell_type": "markdown",
   "metadata": {},
   "source": [
    "# Texas Tow Trucks\n",
    "\n",
    "We're going to scrape some [tow trucks in Texas](https://www.tdlr.texas.gov/tools_search/)."
   ]
  },
  {
   "cell_type": "markdown",
   "metadata": {},
   "source": [
    "## Import your imports"
   ]
  },
  {
   "cell_type": "code",
   "execution_count": 19,
   "metadata": {},
   "outputs": [],
   "source": [
    "from selenium import webdriver\n",
    "from selenium.webdriver.common.keys import Keys\n",
    "from selenium.webdriver.support.ui import Select\n",
    "from selenium.webdriver.support.ui import WebDriverWait\n",
    "\n",
    "import pandas as pd\n",
    "import time\n",
    "import re"
   ]
  },
  {
   "cell_type": "code",
   "execution_count": 20,
   "metadata": {},
   "outputs": [],
   "source": [
    "driver = webdriver.Chrome()"
   ]
  },
  {
   "cell_type": "code",
   "execution_count": 21,
   "metadata": {},
   "outputs": [],
   "source": [
    "driver.get('https://www.tdlr.texas.gov/tools_search/')"
   ]
  },
  {
   "cell_type": "markdown",
   "metadata": {},
   "source": [
    "## Search for the TLDR Number `006179570C`, and scrape the information on that company\n",
    "\n",
    "Using [license information system](https://www.tdlr.texas.gov/tools_search/), find information about the tow truck number above, displaying the\n",
    "\n",
    "- The business name\n",
    "- Owner/operator\n",
    "- Phone number\n",
    "- License status (Active, Expired, Etc)\n",
    "- Physical address\n",
    "\n",
    "If you can't figure a 'nice' way to locate something, your two last options might be:\n",
    "\n",
    "- **Find a \"parent\" element, then dig inside**\n",
    "- **Find all of a type of element** (like we did with `td` before) and get the `[0]`, `[1]`, `[2]`, etc\n",
    "- **XPath** (inspect an element, Copy > Copy XPath)\n",
    "\n",
    "These kinds of techniques tend to break when you're on other result pages, but... maybe not! You won't know until you try.\n",
    "\n",
    "> - *TIP: When you use xpath, you CANNOT use double quotes or Python will get confused. Use single quotes.*\n",
    "> - *TIP: You can clean your data up if you want to, or leave it dirty to clean later*\n",
    "> - *TIP: The address part can be tough, but you have a few options. You can use a combination of `.split` and list slicing to clean it now, or clean it later in the dataframe with regular expressions. Or other options, too, probably*"
   ]
  },
  {
   "cell_type": "code",
   "execution_count": 22,
   "metadata": {},
   "outputs": [],
   "source": [
    "text_input = driver.find_element_by_name('mcrdata') #to write the plate number into the field"
   ]
  },
  {
   "cell_type": "code",
   "execution_count": 23,
   "metadata": {},
   "outputs": [],
   "source": [
    "driver.execute_script(\"arguments[0].scrollIntoView(true)\", text_input) #to scroll down\n",
    "text_input.send_keys(\"006179570C\")"
   ]
  },
  {
   "cell_type": "code",
   "execution_count": 24,
   "metadata": {},
   "outputs": [],
   "source": [
    "search_button = driver.find_element_by_name('proc') #find the search button and click it\n",
    "search_button.click()"
   ]
  },
  {
   "cell_type": "code",
   "execution_count": 25,
   "metadata": {},
   "outputs": [
    {
     "data": {
      "text/plain": [
       "'Carrier Type:  Tow Truck Company\\nNumber of Active Tow Trucks:   0\\n\\nAddress Information\\nMailing:\\n13619 BRETT JACKSON RD\\nFORT WORTH, TX. 76179\\n\\nPhysical:\\n13619 BRETT JACKSON RD.\\nFORT WORTH, TX. 76179'"
      ]
     },
     "execution_count": 25,
     "metadata": {},
     "output_type": "execute_result"
    }
   ],
   "source": [
    "cells = driver.find_elements_by_tag_name('td')\n",
    "\n",
    "name = cells[5].text\n",
    "#name\n",
    "owner_officer = cells[7].text\n",
    "#owner_officer\n",
    "phone_number = cells[9].text\n",
    "#phone_number\n",
    "license_status = cells[12].text\n",
    "#license_status\n",
    "address = cells[12].text\n",
    "cells[14].text\n"
   ]
  },
  {
   "cell_type": "code",
   "execution_count": 26,
   "metadata": {},
   "outputs": [
    {
     "data": {
      "text/plain": [
       "'Carrier Type:  Tow Truck Company\\nNumber of Active Tow Trucks:   0\\n\\nAddress Information\\nMailing:\\n13619 BRETT JACKSON RD\\nFORT WORTH, TX. 76179\\n\\nPhysical:\\n13619 BRETT JACKSON RD.\\nFORT WORTH, TX. 76179'"
      ]
     },
     "execution_count": 26,
     "metadata": {},
     "output_type": "execute_result"
    }
   ],
   "source": [
    "whole_info = cells[14].text\n",
    "whole_info"
   ]
  },
  {
   "cell_type": "code",
   "execution_count": 27,
   "metadata": {},
   "outputs": [
    {
     "data": {
      "text/plain": [
       "'\\n13619 BRETT JACKSON RD.\\nFORT WORTH, TX. 76179'"
      ]
     },
     "execution_count": 27,
     "metadata": {},
     "output_type": "execute_result"
    }
   ],
   "source": [
    "whole_info.split(':')[-1]"
   ]
  },
  {
   "cell_type": "code",
   "execution_count": 28,
   "metadata": {},
   "outputs": [
    {
     "data": {
      "text/plain": [
       "'13619 BRETT JACKSON RD.\\nFORT WORTH, TX. 76179'"
      ]
     },
     "execution_count": 28,
     "metadata": {},
     "output_type": "execute_result"
    }
   ],
   "source": [
    "physical_adress = whole_info.split(':\\n')[-1] #to split the last line after the : and \\n to get rid of \\n\n",
    "physical_adress"
   ]
  },
  {
   "cell_type": "code",
   "execution_count": null,
   "metadata": {},
   "outputs": [],
   "source": []
  },
  {
   "cell_type": "code",
   "execution_count": null,
   "metadata": {},
   "outputs": [],
   "source": []
  },
  {
   "cell_type": "code",
   "execution_count": null,
   "metadata": {},
   "outputs": [],
   "source": []
  },
  {
   "cell_type": "markdown",
   "metadata": {},
   "source": [
    "# Adapt this to work inside of a single cell\n",
    "\n",
    "Double-check that it works. You want it to print out all of the details."
   ]
  },
  {
   "cell_type": "code",
   "execution_count": null,
   "metadata": {},
   "outputs": [],
   "source": []
  },
  {
   "cell_type": "code",
   "execution_count": 80,
   "metadata": {},
   "outputs": [
    {
     "name": "stdout",
     "output_type": "stream",
     "text": [
      "B.D. SMITH TOWING DBA\n",
      "BRANDT SMITH\n",
      "8173330706\n",
      "Expired\n",
      "13619 BRETT JACKSON RD. FORT WORTH, TX. 76179\n"
     ]
    }
   ],
   "source": [
    "#1.) Open Chrome and send the driver to that url\n",
    "driver.get('https://www.tdlr.texas.gov/tools_search/')\n",
    "\n",
    "#2.) Search for field and number\n",
    "driver.find_element_by_id('mcrbutton').click() #find the button an click it\n",
    "driver.find_element_by_id('mcrdata').send_keys('006179570C') #send the number to the TDLR-Field\n",
    "button = driver.find_element_by_id('submit3') #identify search field\n",
    "driver.execute_script(\"arguments[0].scrollIntoView(true)\", button) #scroll to the search\n",
    "button.click()\n",
    "\n",
    "#3.) Scraping the details of the results page: I'll try another way because I think the way I did it was very messy.\n",
    "time.sleep(1)\n",
    "#I use the xpath of the whole info_block!\n",
    "company_info = re.split(\":   \",driver.find_element_by_xpath('//*[@id=\"t1\"]/tbody/tr/td/font/table[2]/tbody').text)\n",
    "#print(company_info) to doublecheck if it works. I see a list with diffrent objects in it\n",
    "print(company_info[1]) #companyname\n",
    "business = company_info[1]\n",
    "print(re.split(\" /\", company_info[3])[0]) #owner\n",
    "owner = re.split(\" /\", company_info[3])[0]\n",
    "print(company_info[4]) #phone\n",
    "phone = company_info[4]\n",
    "\n",
    "#Now I use the xpath of the whole table 3\n",
    "company_details = driver.find_element_by_xpath('//*[@id=\"t1\"]/tbody/tr/td/font/table[3]').text\n",
    "#print(company_details)  #Again to make sure if it works\n",
    "print(re.findall(\"\\((.*)\\)\", company_details)[0]) #status (Note: re.findall returns a list of strings. [0] gives me the first string of that list)\n",
    "\n",
    "status = re.findall(\"\\((.*)\\)\", company_details)[0]\n",
    "\n",
    "address = re.split(\":\\n\", company_details)[-1] #I split the address after \\n\n",
    "print(str.replace(address, \"\\n\", \" \")) # I replace \\n with nothing\n",
    "address = str.replace(address, \"\\n\", \" \") #Override the former variable \"address\" with the clean one"
   ]
  },
  {
   "cell_type": "markdown",
   "metadata": {},
   "source": [
    "# Using .apply to find data about SEVERAL tow truck companies\n",
    "\n",
    "The file `trucks-subset.csv` has information about the trucks, we'll use it to find the pages to scrape.\n",
    "\n",
    "### Open up `trucks-subset.csv` and save it into a dataframe"
   ]
  },
  {
   "cell_type": "code",
   "execution_count": 81,
   "metadata": {},
   "outputs": [
    {
     "data": {
      "text/html": [
       "<div>\n",
       "<style scoped>\n",
       "    .dataframe tbody tr th:only-of-type {\n",
       "        vertical-align: middle;\n",
       "    }\n",
       "\n",
       "    .dataframe tbody tr th {\n",
       "        vertical-align: top;\n",
       "    }\n",
       "\n",
       "    .dataframe thead th {\n",
       "        text-align: right;\n",
       "    }\n",
       "</style>\n",
       "<table border=\"1\" class=\"dataframe\">\n",
       "  <thead>\n",
       "    <tr style=\"text-align: right;\">\n",
       "      <th></th>\n",
       "      <th>TDLR Number</th>\n",
       "    </tr>\n",
       "  </thead>\n",
       "  <tbody>\n",
       "    <tr>\n",
       "      <th>0</th>\n",
       "      <td>006507931C</td>\n",
       "    </tr>\n",
       "    <tr>\n",
       "      <th>1</th>\n",
       "      <td>006179570C</td>\n",
       "    </tr>\n",
       "    <tr>\n",
       "      <th>2</th>\n",
       "      <td>006502097C</td>\n",
       "    </tr>\n",
       "  </tbody>\n",
       "</table>\n",
       "</div>"
      ],
      "text/plain": [
       "  TDLR Number\n",
       "0  006507931C\n",
       "1  006179570C\n",
       "2  006502097C"
      ]
     },
     "execution_count": 81,
     "metadata": {},
     "output_type": "execute_result"
    }
   ],
   "source": [
    "df = pd.read_csv('trucks-subset.csv')\n",
    "df.head()"
   ]
  },
  {
   "cell_type": "code",
   "execution_count": null,
   "metadata": {},
   "outputs": [],
   "source": []
  },
  {
   "cell_type": "markdown",
   "metadata": {},
   "source": [
    "## Go through each row of the dataset, displaying the URL you will need to scrape for the information on that row\n",
    "\n",
    "You don't have to actually use the search form for each of these - look at the URL you're on, it has the number in it!\n",
    "\n",
    "For example, one URL might look like `https://www.tdlr.texas.gov/tools_search/mccs_display.asp?mcrnumber=006495492C`.\n",
    "\n",
    "- *TIP: Use .apply and a function*\n",
    "- *TIP: Unlike the Yelp example, you'll need to build this URL from pieces*\n",
    "- *TIP: You probably don't want to `print` unless you're going to fix it for the next question \n",
    "- *TIP: pandas won't showing you the entire url! Run `pd.set_option('display.max_colwidth', -1)` to display aaaalll of the text in a cell*"
   ]
  },
  {
   "cell_type": "code",
   "execution_count": 82,
   "metadata": {},
   "outputs": [
    {
     "data": {
      "text/plain": [
       "0    006507931C\n",
       "1    006179570C\n",
       "2    006502097C\n",
       "Name: TDLR Number, dtype: object"
      ]
     },
     "execution_count": 82,
     "metadata": {},
     "output_type": "execute_result"
    }
   ],
   "source": [
    "df['TDLR Number']"
   ]
  },
  {
   "cell_type": "code",
   "execution_count": 188,
   "metadata": {},
   "outputs": [],
   "source": [
    "#driver = webdriver.Chrome()\n",
    "#driver.get(\"https://www.tdlr.texas.gov/tools_search/mccs_display.asp?mcrnumber=006507931C\")"
   ]
  },
  {
   "cell_type": "code",
   "execution_count": 192,
   "metadata": {},
   "outputs": [],
   "source": [
    "def get_towtruck(row):\n",
    "    #navigate the driver to the url\n",
    "    #driver.get('https://www.tdlr.texas.gov/tools_search/')\n",
    "    # fill out the form and search\n",
    "    #driver.find_element_by_id('mcrbutton').click() #find the button an click it\n",
    "    #driver.find_element_by_id('mcrdata').send_keys(row['TDLR Number']) #send the licensplate to the TDLR-Field\n",
    "    #button = driver.find_element_by_id('submit3') #identify search field\n",
    "    #driver.execute_script(\"arguments[0].scrollIntoView(true)\", button) #scroll to the search\n",
    "    #button.click()\n",
    "    \n",
    "    url = 'https://www.tdlr.texas.gov/tools_search/mccs_display.asp?mcrnumber='+row['TDLR Number']\n",
    "    return url"
   ]
  },
  {
   "cell_type": "code",
   "execution_count": 193,
   "metadata": {},
   "outputs": [
    {
     "data": {
      "text/plain": [
       "0    https://www.tdlr.texas.gov/tools_search/mccs_d...\n",
       "1    https://www.tdlr.texas.gov/tools_search/mccs_d...\n",
       "2    https://www.tdlr.texas.gov/tools_search/mccs_d...\n",
       "dtype: object"
      ]
     },
     "execution_count": 193,
     "metadata": {},
     "output_type": "execute_result"
    }
   ],
   "source": [
    "df.apply(get_towtruck, axis=1)"
   ]
  },
  {
   "cell_type": "markdown",
   "metadata": {},
   "source": [
    "### Save this URL into a new column of your dataframe, called `url`\n",
    "\n",
    "- *TIP: Use a function and `.apply`*\n",
    "- *TIP: Be sure to use `return`*"
   ]
  },
  {
   "cell_type": "code",
   "execution_count": 35,
   "metadata": {},
   "outputs": [],
   "source": [
    "def get_towtruck(row):\n",
    "    #send the driver to the url\n",
    "    driver.get('https://www.tdlr.texas.gov/tools_search/')\n",
    "    # fill out the field and search\n",
    "    driver.find_element_by_id('mcrbutton').click() #find the button an click it\n",
    "    driver.find_element_by_id('mcrdata').send_keys(row['TDLR Number']) #send the number to the TDLR-Field\n",
    "    button = driver.find_element_by_id('submit3') #identify search field\n",
    "    driver.execute_script(\"arguments[0].scrollIntoView(true)\", button) #scroll to the search\n",
    "    button.click()\n",
    "    \n",
    "    url = 'https://www.tdlr.texas.gov/tools_search/mccs_display.asp?mcrnumber='+row['TDLR Number']\n",
    "    \n",
    "    return pd.Series({ #url is gonna be saved into a column of my pandas dataframe\n",
    "            'url': url\n",
    "            \n",
    "        })"
   ]
  },
  {
   "cell_type": "code",
   "execution_count": 38,
   "metadata": {},
   "outputs": [
    {
     "data": {
      "text/html": [
       "<div>\n",
       "<style scoped>\n",
       "    .dataframe tbody tr th:only-of-type {\n",
       "        vertical-align: middle;\n",
       "    }\n",
       "\n",
       "    .dataframe tbody tr th {\n",
       "        vertical-align: top;\n",
       "    }\n",
       "\n",
       "    .dataframe thead th {\n",
       "        text-align: right;\n",
       "    }\n",
       "</style>\n",
       "<table border=\"1\" class=\"dataframe\">\n",
       "  <thead>\n",
       "    <tr style=\"text-align: right;\">\n",
       "      <th></th>\n",
       "      <th>url</th>\n",
       "      <th>TDLR Number</th>\n",
       "    </tr>\n",
       "  </thead>\n",
       "  <tbody>\n",
       "    <tr>\n",
       "      <th>0</th>\n",
       "      <td>https://www.tdlr.texas.gov/tools_search/mccs_display.asp?mcrnumber=006507931C</td>\n",
       "      <td>006507931C</td>\n",
       "    </tr>\n",
       "    <tr>\n",
       "      <th>1</th>\n",
       "      <td>https://www.tdlr.texas.gov/tools_search/mccs_display.asp?mcrnumber=006179570C</td>\n",
       "      <td>006179570C</td>\n",
       "    </tr>\n",
       "    <tr>\n",
       "      <th>2</th>\n",
       "      <td>https://www.tdlr.texas.gov/tools_search/mccs_display.asp?mcrnumber=006502097C</td>\n",
       "      <td>006502097C</td>\n",
       "    </tr>\n",
       "  </tbody>\n",
       "</table>\n",
       "</div>"
      ],
      "text/plain": [
       "                                                                             url  \\\n",
       "0  https://www.tdlr.texas.gov/tools_search/mccs_display.asp?mcrnumber=006507931C   \n",
       "1  https://www.tdlr.texas.gov/tools_search/mccs_display.asp?mcrnumber=006179570C   \n",
       "2  https://www.tdlr.texas.gov/tools_search/mccs_display.asp?mcrnumber=006502097C   \n",
       "\n",
       "  TDLR Number  \n",
       "0  006507931C  \n",
       "1  006179570C  \n",
       "2  006502097C  "
      ]
     },
     "execution_count": 38,
     "metadata": {},
     "output_type": "execute_result"
    }
   ],
   "source": [
    "# to make a new DataFrame with the old and new stuff together:\n",
    "url_df = df.apply(get_towtruck, axis=1).join(df)\n",
    "url_df"
   ]
  },
  {
   "cell_type": "code",
   "execution_count": null,
   "metadata": {},
   "outputs": [],
   "source": []
  },
  {
   "cell_type": "markdown",
   "metadata": {},
   "source": [
    "## Go through each row of the dataset, printing out information about each tow truck company.\n",
    "\n",
    "Now will be **scraping** inside of your function.\n",
    "\n",
    "- The business name\n",
    "- Owner/operator\n",
    "- Phone number\n",
    "- License status (Active, Expired, Etc)\n",
    "- Physical address\n",
    "\n",
    "Just print it out for now.\n",
    "\n",
    "- *TIP: use .apply*\n",
    "- *TIP: You'll be using the code you wrote before, but converted into a function*\n",
    "- *TIP: Remember how the TDLR Number is in the URL? You don't need to do the form submission if you don't want!*\n",
    "- *TIP: Make sure you adjust any variables so you don't scrape the same page again and again*"
   ]
  },
  {
   "cell_type": "code",
   "execution_count": 103,
   "metadata": {},
   "outputs": [],
   "source": [
    "def get_towtruck(row):\n",
    "    ###################\n",
    "    #Part 1: Submission \n",
    "    ###################\n",
    "    #Navigate the driver to the url\n",
    "    driver.get('https://www.tdlr.texas.gov/tools_search/')\n",
    "    # fill out the form and search\n",
    "    driver.find_element_by_id('mcrbutton').click() #find the button an click it\n",
    "    driver.find_element_by_id('mcrdata').send_keys(row['TDLR Number']) #send the number to the TDLR-Field\n",
    "    button = driver.find_element_by_id('submit3') #identify search field\n",
    "    driver.execute_script(\"arguments[0].scrollIntoView(true)\", button) #scroll to the search\n",
    "    button.click()\n",
    "    \n",
    "    ##############################################\n",
    "    #Part 2: Get the details from the results page\n",
    "    ##############################################\n",
    "    company_info = re.split(\":   \",driver.find_element_by_xpath('//*[@id=\"t1\"]/tbody/tr/td/font/table[2]/tbody').text)\n",
    "    print(company_info[1]) #companyname\n",
    "    business = company_info[1]\n",
    "    print(re.split(\" /\", company_info[3])[0]) #owner\n",
    "    owner = re.split(\" /\", company_info[3])[0]\n",
    "    print(company_info[4]) #phone\n",
    "    phone = company_info[4]\n",
    "    \n",
    "    company_details = driver.find_element_by_xpath('//*[@id=\"t1\"]/tbody/tr/td/font/table[3]').text\n",
    "    print(re.findall(\"\\((.*)\\)\", company_details)[0]) #status\n",
    "    status = re.findall(\"\\((.*)\\)\", company_details)[0]\n",
    "    \n",
    "    address = re.split(\":\\n\", company_details)[-1]\n",
    "    print(str.replace(address, \"\\n\", \" \"))\n",
    "    address = str.replace(address, \"\\n\", \" \")"
   ]
  },
  {
   "cell_type": "code",
   "execution_count": 43,
   "metadata": {},
   "outputs": [
    {
     "name": "stdout",
     "output_type": "stream",
     "text": [
      "AUGUSTUS E SMITH DBA\n",
      "AUGUSTUS EUGENE SMITH\n",
      "9032276464\n",
      "Active\n",
      "103 N MAIN ST BONHAM, TX. 75418\n",
      "B.D. SMITH TOWING DBA\n",
      "BRANDT SMITH\n",
      "8173330706\n",
      "Expired\n",
      "13619 BRETT JACKSON RD. FORT WORTH, TX. 76179\n",
      "BARRY MICHAEL SMITH DBA\n",
      "BARRY MICHAEL SMITH\n",
      "8066544404\n",
      "Active\n",
      "4501 W CEMETERY RD CANYON, TX. 79015\n"
     ]
    },
    {
     "data": {
      "text/plain": [
       "0    None\n",
       "1    None\n",
       "2    None\n",
       "dtype: object"
      ]
     },
     "execution_count": 43,
     "metadata": {},
     "output_type": "execute_result"
    }
   ],
   "source": [
    "url_df.apply(get_towtruck, axis=1)"
   ]
  },
  {
   "cell_type": "code",
   "execution_count": null,
   "metadata": {},
   "outputs": [],
   "source": []
  },
  {
   "cell_type": "markdown",
   "metadata": {},
   "source": [
    "## Scrape the following information for each row of the dataset, and save it into new columns in your dataframe.\n",
    "\n",
    "- The business name\n",
    "- Owner/operator\n",
    "- Phone number\n",
    "- License status (Active, Expired, Etc)\n",
    "- Physical address\n",
    "\n",
    "It's basically what we did before, but using the function a little differently.\n",
    "\n",
    "- *TIP: Same as above, but you'll be returning a `pd.Series` and the `.apply` line is going to be a lot longer*\n",
    "- *TIP: Save it to a new dataframe!*\n",
    "- *TIP: Make sure you change your `df` variable names correctly if you're cutting and pasting - there are a few so it can get tricky*"
   ]
  },
  {
   "cell_type": "code",
   "execution_count": 102,
   "metadata": {},
   "outputs": [],
   "source": [
    "def get_towtruck(row):\n",
    "    #navigate the driver to the url\n",
    "    driver.get('https://www.tdlr.texas.gov/tools_search/')\n",
    "    \n",
    "    # fill out the form and search\n",
    "    driver.find_element_by_id('mcrbutton').click() #find the button an click it\n",
    "    driver.find_element_by_id('mcrdata').send_keys(row['TDLR Number']) #send the licensplate to the TDLR-Field\n",
    "    button = driver.find_element_by_id('submit3') #identify search field\n",
    "    driver.execute_script(\"arguments[0].scrollIntoView(true)\", button) #scroll to the search\n",
    "    button.click()\n",
    "    \n",
    "    #get the details from the result page\n",
    "    time.sleep(1)\n",
    "    company_info = re.split(\":   \",driver.find_element_by_xpath('//*[@id=\"t1\"]/tbody/tr/td/font/table[2]/tbody').text)\n",
    "    print(company_info[1]) #companyname\n",
    "    business = company_info[1]\n",
    "    print(re.split(\" /\", company_info[3])[0]) #owner\n",
    "    owner = re.split(\" /\", company_info[3])[0]\n",
    "    print(company_info[4]) #phone\n",
    "    phone = company_info[4]\n",
    "    \n",
    "    company_details = driver.find_element_by_xpath('//*[@id=\"t1\"]/tbody/tr/td/font/table[3]').text\n",
    "    print(re.findall(\"\\((.*)\\)\", company_details)[0]) #status\n",
    "    status = re.findall(\"\\((.*)\\)\", company_details)[0]\n",
    "    \n",
    "    address = re.split(\":\\n\", company_details)[-1]\n",
    "    print(str.replace(address, \"\\n\", \" \"))\n",
    "    address = str.replace(address, \"\\n\", \" \")\n",
    "    \n",
    "    return pd.Series({\n",
    "        'Business Name': business,\n",
    "        'Owner': owner,\n",
    "        'Phone number': phone,\n",
    "        'License status': status,\n",
    "        'Physical address': address\n",
    "        \n",
    "    })"
   ]
  },
  {
   "cell_type": "code",
   "execution_count": 91,
   "metadata": {},
   "outputs": [
    {
     "name": "stdout",
     "output_type": "stream",
     "text": [
      "AUGUSTUS E SMITH DBA\n",
      "AUGUSTUS EUGENE SMITH\n",
      "9032276464\n",
      "Active\n",
      "103 N MAIN ST BONHAM, TX. 75418\n",
      "AUGUSTUS E SMITH DBA\n",
      "AUGUSTUS EUGENE SMITH\n",
      "9032276464\n",
      "Active\n",
      "103 N MAIN ST BONHAM, TX. 75418\n",
      "B.D. SMITH TOWING DBA\n",
      "BRANDT SMITH\n",
      "8173330706\n",
      "Expired\n",
      "13619 BRETT JACKSON RD. FORT WORTH, TX. 76179\n",
      "BARRY MICHAEL SMITH DBA\n",
      "BARRY MICHAEL SMITH\n",
      "8066544404\n",
      "Active\n",
      "4501 W CEMETERY RD CANYON, TX. 79015\n"
     ]
    },
    {
     "data": {
      "text/html": [
       "<div>\n",
       "<style scoped>\n",
       "    .dataframe tbody tr th:only-of-type {\n",
       "        vertical-align: middle;\n",
       "    }\n",
       "\n",
       "    .dataframe tbody tr th {\n",
       "        vertical-align: top;\n",
       "    }\n",
       "\n",
       "    .dataframe thead th {\n",
       "        text-align: right;\n",
       "    }\n",
       "</style>\n",
       "<table border=\"1\" class=\"dataframe\">\n",
       "  <thead>\n",
       "    <tr style=\"text-align: right;\">\n",
       "      <th></th>\n",
       "      <th>Business Name</th>\n",
       "      <th>Owner</th>\n",
       "      <th>Phone number</th>\n",
       "      <th>License status</th>\n",
       "      <th>Physical address</th>\n",
       "      <th>url</th>\n",
       "      <th>TDLR Number</th>\n",
       "    </tr>\n",
       "  </thead>\n",
       "  <tbody>\n",
       "    <tr>\n",
       "      <th>0</th>\n",
       "      <td>AUGUSTUS E SMITH DBA</td>\n",
       "      <td>AUGUSTUS EUGENE SMITH</td>\n",
       "      <td>9032276464</td>\n",
       "      <td>Active</td>\n",
       "      <td>103 N MAIN ST BONHAM, TX. 75418</td>\n",
       "      <td>https://www.tdlr.texas.gov/tools_search/mccs_display.asp?mcrnumber=006507931C</td>\n",
       "      <td>006507931C</td>\n",
       "    </tr>\n",
       "    <tr>\n",
       "      <th>1</th>\n",
       "      <td>B.D. SMITH TOWING DBA</td>\n",
       "      <td>BRANDT SMITH</td>\n",
       "      <td>8173330706</td>\n",
       "      <td>Expired</td>\n",
       "      <td>13619 BRETT JACKSON RD. FORT WORTH, TX. 76179</td>\n",
       "      <td>https://www.tdlr.texas.gov/tools_search/mccs_display.asp?mcrnumber=006179570C</td>\n",
       "      <td>006179570C</td>\n",
       "    </tr>\n",
       "    <tr>\n",
       "      <th>2</th>\n",
       "      <td>BARRY MICHAEL SMITH DBA</td>\n",
       "      <td>BARRY MICHAEL SMITH</td>\n",
       "      <td>8066544404</td>\n",
       "      <td>Active</td>\n",
       "      <td>4501 W CEMETERY RD CANYON, TX. 79015</td>\n",
       "      <td>https://www.tdlr.texas.gov/tools_search/mccs_display.asp?mcrnumber=006502097C</td>\n",
       "      <td>006502097C</td>\n",
       "    </tr>\n",
       "  </tbody>\n",
       "</table>\n",
       "</div>"
      ],
      "text/plain": [
       "             Business Name                  Owner Phone number License status  \\\n",
       "0  AUGUSTUS E SMITH DBA     AUGUSTUS EUGENE SMITH  9032276464   Active          \n",
       "1  B.D. SMITH TOWING DBA    BRANDT SMITH           8173330706   Expired         \n",
       "2  BARRY MICHAEL SMITH DBA  BARRY MICHAEL SMITH    8066544404   Active          \n",
       "\n",
       "                                Physical address  \\\n",
       "0  103 N MAIN ST BONHAM, TX. 75418                 \n",
       "1  13619 BRETT JACKSON RD. FORT WORTH, TX. 76179   \n",
       "2  4501 W CEMETERY RD CANYON, TX. 79015            \n",
       "\n",
       "                                                                             url  \\\n",
       "0  https://www.tdlr.texas.gov/tools_search/mccs_display.asp?mcrnumber=006507931C   \n",
       "1  https://www.tdlr.texas.gov/tools_search/mccs_display.asp?mcrnumber=006179570C   \n",
       "2  https://www.tdlr.texas.gov/tools_search/mccs_display.asp?mcrnumber=006502097C   \n",
       "\n",
       "  TDLR Number  \n",
       "0  006507931C  \n",
       "1  006179570C  \n",
       "2  006502097C  "
      ]
     },
     "execution_count": 91,
     "metadata": {},
     "output_type": "execute_result"
    }
   ],
   "source": [
    "new_df = url_df.apply(get_towtruck, axis=1).join(url_df)\n",
    "new_df"
   ]
  },
  {
   "cell_type": "code",
   "execution_count": null,
   "metadata": {},
   "outputs": [],
   "source": []
  },
  {
   "cell_type": "markdown",
   "metadata": {},
   "source": [
    "### Save your dataframe as a CSV named `tow-trucks-extended.csv`"
   ]
  },
  {
   "cell_type": "code",
   "execution_count": 92,
   "metadata": {},
   "outputs": [],
   "source": [
    "new_df.to_csv('tow-trucks-extended.csv', index=False)"
   ]
  },
  {
   "cell_type": "markdown",
   "metadata": {},
   "source": [
    "### Re-open your dataframe to confirm you didn't save any extra weird columns"
   ]
  },
  {
   "cell_type": "code",
   "execution_count": 93,
   "metadata": {},
   "outputs": [
    {
     "data": {
      "text/html": [
       "<div>\n",
       "<style scoped>\n",
       "    .dataframe tbody tr th:only-of-type {\n",
       "        vertical-align: middle;\n",
       "    }\n",
       "\n",
       "    .dataframe tbody tr th {\n",
       "        vertical-align: top;\n",
       "    }\n",
       "\n",
       "    .dataframe thead th {\n",
       "        text-align: right;\n",
       "    }\n",
       "</style>\n",
       "<table border=\"1\" class=\"dataframe\">\n",
       "  <thead>\n",
       "    <tr style=\"text-align: right;\">\n",
       "      <th></th>\n",
       "      <th>Business Name</th>\n",
       "      <th>Owner</th>\n",
       "      <th>Phone number</th>\n",
       "      <th>License status</th>\n",
       "      <th>Physical address</th>\n",
       "      <th>url</th>\n",
       "      <th>TDLR Number</th>\n",
       "    </tr>\n",
       "  </thead>\n",
       "  <tbody>\n",
       "    <tr>\n",
       "      <th>0</th>\n",
       "      <td>AUGUSTUS E SMITH DBA</td>\n",
       "      <td>AUGUSTUS EUGENE SMITH</td>\n",
       "      <td>9032276464</td>\n",
       "      <td>Active</td>\n",
       "      <td>103 N MAIN ST BONHAM, TX. 75418</td>\n",
       "      <td>https://www.tdlr.texas.gov/tools_search/mccs_display.asp?mcrnumber=006507931C</td>\n",
       "      <td>006507931C</td>\n",
       "    </tr>\n",
       "    <tr>\n",
       "      <th>1</th>\n",
       "      <td>B.D. SMITH TOWING DBA</td>\n",
       "      <td>BRANDT SMITH</td>\n",
       "      <td>8173330706</td>\n",
       "      <td>Expired</td>\n",
       "      <td>13619 BRETT JACKSON RD. FORT WORTH, TX. 76179</td>\n",
       "      <td>https://www.tdlr.texas.gov/tools_search/mccs_display.asp?mcrnumber=006179570C</td>\n",
       "      <td>006179570C</td>\n",
       "    </tr>\n",
       "    <tr>\n",
       "      <th>2</th>\n",
       "      <td>BARRY MICHAEL SMITH DBA</td>\n",
       "      <td>BARRY MICHAEL SMITH</td>\n",
       "      <td>8066544404</td>\n",
       "      <td>Active</td>\n",
       "      <td>4501 W CEMETERY RD CANYON, TX. 79015</td>\n",
       "      <td>https://www.tdlr.texas.gov/tools_search/mccs_display.asp?mcrnumber=006502097C</td>\n",
       "      <td>006502097C</td>\n",
       "    </tr>\n",
       "  </tbody>\n",
       "</table>\n",
       "</div>"
      ],
      "text/plain": [
       "             Business Name                  Owner  Phone number  \\\n",
       "0  AUGUSTUS E SMITH DBA     AUGUSTUS EUGENE SMITH  9032276464     \n",
       "1  B.D. SMITH TOWING DBA    BRANDT SMITH           8173330706     \n",
       "2  BARRY MICHAEL SMITH DBA  BARRY MICHAEL SMITH    8066544404     \n",
       "\n",
       "  License status                               Physical address  \\\n",
       "0  Active         103 N MAIN ST BONHAM, TX. 75418                 \n",
       "1  Expired        13619 BRETT JACKSON RD. FORT WORTH, TX. 76179   \n",
       "2  Active         4501 W CEMETERY RD CANYON, TX. 79015            \n",
       "\n",
       "                                                                             url  \\\n",
       "0  https://www.tdlr.texas.gov/tools_search/mccs_display.asp?mcrnumber=006507931C   \n",
       "1  https://www.tdlr.texas.gov/tools_search/mccs_display.asp?mcrnumber=006179570C   \n",
       "2  https://www.tdlr.texas.gov/tools_search/mccs_display.asp?mcrnumber=006502097C   \n",
       "\n",
       "  TDLR Number  \n",
       "0  006507931C  \n",
       "1  006179570C  \n",
       "2  006502097C  "
      ]
     },
     "execution_count": 93,
     "metadata": {},
     "output_type": "execute_result"
    }
   ],
   "source": [
    "pd.read_csv('tow-trucks-extended.csv')"
   ]
  },
  {
   "cell_type": "markdown",
   "metadata": {},
   "source": [
    "## Process the entire `tow-trucks.csv` file\n",
    "\n",
    "We just did it on a short subset so far. Now try it on all of the tow trucks. **Save as the same filename as before**"
   ]
  },
  {
   "cell_type": "code",
   "execution_count": 94,
   "metadata": {},
   "outputs": [
    {
     "data": {
      "text/html": [
       "<div>\n",
       "<style scoped>\n",
       "    .dataframe tbody tr th:only-of-type {\n",
       "        vertical-align: middle;\n",
       "    }\n",
       "\n",
       "    .dataframe tbody tr th {\n",
       "        vertical-align: top;\n",
       "    }\n",
       "\n",
       "    .dataframe thead th {\n",
       "        text-align: right;\n",
       "    }\n",
       "</style>\n",
       "<table border=\"1\" class=\"dataframe\">\n",
       "  <thead>\n",
       "    <tr style=\"text-align: right;\">\n",
       "      <th></th>\n",
       "      <th>TDLR Number</th>\n",
       "    </tr>\n",
       "  </thead>\n",
       "  <tbody>\n",
       "    <tr>\n",
       "      <th>0</th>\n",
       "      <td>006507931C</td>\n",
       "    </tr>\n",
       "    <tr>\n",
       "      <th>1</th>\n",
       "      <td>006179570C</td>\n",
       "    </tr>\n",
       "    <tr>\n",
       "      <th>2</th>\n",
       "      <td>006502097C</td>\n",
       "    </tr>\n",
       "    <tr>\n",
       "      <th>3</th>\n",
       "      <td>006494912C</td>\n",
       "    </tr>\n",
       "    <tr>\n",
       "      <th>4</th>\n",
       "      <td>0649468VSF</td>\n",
       "    </tr>\n",
       "  </tbody>\n",
       "</table>\n",
       "</div>"
      ],
      "text/plain": [
       "  TDLR Number\n",
       "0  006507931C\n",
       "1  006179570C\n",
       "2  006502097C\n",
       "3  006494912C\n",
       "4  0649468VSF"
      ]
     },
     "execution_count": 94,
     "metadata": {},
     "output_type": "execute_result"
    }
   ],
   "source": [
    "df = pd.read_csv('tow-trucks.csv')\n",
    "df.head()"
   ]
  },
  {
   "cell_type": "code",
   "execution_count": 101,
   "metadata": {},
   "outputs": [],
   "source": [
    "def get_towtruck(row):\n",
    "        #navigate the driver to the url\n",
    "    driver.get('https://www.tdlr.texas.gov/tools_search/')\n",
    "    \n",
    "    # fill out the form and search\n",
    "    driver.find_element_by_id('mcrbutton').click() #find the button an click it\n",
    "    driver.find_element_by_id('mcrdata').send_keys(row['TDLR Number']) #send the licensplate to the TDLR-Field\n",
    "    print(row['TDLR Number'])\n",
    "    button = driver.find_element_by_id('submit3') #identify search field\n",
    "    driver.execute_script(\"arguments[0].scrollIntoView(true)\", button) #scroll to the search\n",
    "    button.click()\n",
    "    url = 'https://www.tdlr.texas.gov/tools_search/mccs_display.asp?mcrnumber='+row['TDLR Number'] #to save the url in the df\n",
    "\n",
    "    try:\n",
    "        #get the details from the result page\n",
    "        time.sleep(1)\n",
    "        company_info = re.split(\":   \",driver.find_element_by_xpath('//*[@id=\"t1\"]/tbody/tr/td/font/table[2]/tbody').text)\n",
    "        print(company_info[1]) #companyname\n",
    "        business = company_info[1]\n",
    "        print(re.split(\" /\", company_info[3])[0]) #owner\n",
    "        owner = re.split(\" /\", company_info[3])[0]\n",
    "        print(company_info[4]) #phone\n",
    "        phone = company_info[4]\n",
    "        \n",
    "        company_details = driver.find_element_by_xpath('//*[@id=\"t1\"]/tbody/tr/td/font/table[3]').text\n",
    "        print(re.findall(\"\\((.*)\\)\", company_details)[0]) #status\n",
    "        status = re.findall(\"\\((.*)\\)\", company_details)[0]\n",
    "        \n",
    "        address = re.split(\":\\n\", company_details)[-1]\n",
    "        print(str.replace(address, \"\\n\", \" \"))\n",
    "        address = str.replace(address, \"\\n\", \" \")\n",
    "        \n",
    "        return pd.Series({\n",
    "                'business': business,\n",
    "                'owner': owner,\n",
    "                'phone': phone,\n",
    "                'status': status,\n",
    "                'address': address,\n",
    "                'url': url\n",
    "                \n",
    "            })\n",
    "    except:\n",
    "        print(\"no record\")\n",
    "        #to not loose the TDLR I write no record instead\n",
    "        return pd.Series({\n",
    "                'business': 'no record',\n",
    "                'owner': 'no record',\n",
    "                'phone': 'no record',\n",
    "                'status': 'no record',\n",
    "                'address': 'no record',\n",
    "                'url': url\n",
    "                \n",
    "            })"
   ]
  },
  {
   "cell_type": "code",
   "execution_count": 100,
   "metadata": {},
   "outputs": [
    {
     "name": "stdout",
     "output_type": "stream",
     "text": [
      "006507931C\n",
      "AUGUSTUS E SMITH DBA\n",
      "AUGUSTUS EUGENE SMITH\n",
      "9032276464\n",
      "Active\n",
      "103 N MAIN ST BONHAM, TX. 75418\n",
      "006507931C\n",
      "AUGUSTUS E SMITH DBA\n",
      "AUGUSTUS EUGENE SMITH\n",
      "9032276464\n",
      "Active\n",
      "103 N MAIN ST BONHAM, TX. 75418\n",
      "006179570C\n",
      "B.D. SMITH TOWING DBA\n",
      "BRANDT SMITH\n",
      "8173330706\n",
      "Expired\n",
      "13619 BRETT JACKSON RD. FORT WORTH, TX. 76179\n",
      "006502097C\n",
      "BARRY MICHAEL SMITH DBA\n",
      "BARRY MICHAEL SMITH\n",
      "8066544404\n",
      "Active\n",
      "4501 W CEMETERY RD CANYON, TX. 79015\n",
      "006494912C\n",
      "no record\n",
      "0649468VSF\n",
      "no record\n",
      "006448786C\n",
      "HYSMITH AUTOMOTIVE DBA\n",
      "WILLIAM THOMAS HYSMITH\n",
      "ASHLEY ERIN HYSMITH / TREASURER\n",
      "Phone\n",
      "Active\n",
      "1210 US 380 BYPASS GRAHAM, TX. 76450\n",
      "0648444VSF\n",
      "no record\n",
      "0651667VSF\n",
      "HYSMITH AUTOMOTIVE & TRUCK REPAIR INC DBA\n",
      "WILLIAM THOMAS HYSMITH\n",
      "ASHLEY ERIN HYSMITH / TREASURER\n",
      "Phone\n",
      "Active\n",
      "1210 380 BYPASS GRAHAM, TX. 76450\n",
      "006017767C\n",
      "no record\n",
      "006495492C\n",
      "JEFF SMITH DBA\n",
      "JEFFREY JOHN SMITH\n",
      "8324354670\n",
      "Active\n",
      "4338 HARVEY RD CROSBY, TX. 77532\n",
      "006518521C\n",
      "LUTHER SMITH DBA\n",
      "LUTHER EUGENE SMITH\n",
      "281-838-9435\n",
      "Insurance and/or fees not applied\n",
      "20001 FM 2100 RD CROSBY, TX. 77532\n",
      "006521662C\n",
      "MAURICE SMITH DBA\n",
      "MAURICE SMITH\n",
      "7134544462\n",
      "Active\n",
      "5505 SAVANNAH WOODS LN ROSHARON, TX. 77583\n",
      "006482451C\n",
      "no record\n",
      "0646264VSF\n",
      "no record\n",
      "0650690VSF\n",
      "no record\n",
      "006505010C\n",
      "no record\n",
      "0000210VSF\n",
      "SMITH BRO. WRECKER SERVICE DBA\n",
      "JEFF SMITH\n",
      "GLEN SMITH / PARTNER\n",
      "Phone\n",
      "Expired\n",
      "10842 FM 2138 N JACKSONVILLE, TX. 75766\n",
      "005029369C\n",
      "no record\n",
      "006410509C\n",
      "SMITH TOWING & RECOVERY, LLC DBA\n",
      "RICKY L SMITH\n",
      "9362693915\n",
      "Active\n",
      "12741 HWY 84E JOAQUIN, TX. 75954\n",
      "0643482VSF\n",
      "SMITH TOWING & RECOVERY,LLC DBA\n",
      "RICKY L SMITH\n",
      "9362693915\n",
      "Active\n",
      "12741 HWY 84 E JOAQUIN, TX. 75954\n"
     ]
    }
   ],
   "source": [
    "all_df = df.apply(get_towtruck, axis=1).join(df)"
   ]
  },
  {
   "cell_type": "code",
   "execution_count": null,
   "metadata": {},
   "outputs": [],
   "source": [
    "#I have a few \"no records\" there, but no clue how to get rid of those or get the information..."
   ]
  }
 ],
 "metadata": {
  "kernelspec": {
   "display_name": "Python 3",
   "language": "python",
   "name": "python3"
  },
  "language_info": {
   "codemirror_mode": {
    "name": "ipython",
    "version": 3
   },
   "file_extension": ".py",
   "mimetype": "text/x-python",
   "name": "python",
   "nbconvert_exporter": "python",
   "pygments_lexer": "ipython3",
   "version": "3.6.4"
  }
 },
 "nbformat": 4,
 "nbformat_minor": 2
}
