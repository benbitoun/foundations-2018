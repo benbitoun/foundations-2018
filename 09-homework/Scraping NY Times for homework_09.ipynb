{
 "cells": [
  {
   "cell_type": "code",
   "execution_count": 1,
   "metadata": {},
   "outputs": [],
   "source": [
    "import requests\n",
    "from bs4 import BeautifulSoup\n",
    "import pandas as pd"
   ]
  },
  {
   "cell_type": "code",
   "execution_count": 2,
   "metadata": {},
   "outputs": [],
   "source": [
    "response = requests.get('http://www.nytimes.com')\n",
    "doc = BeautifulSoup(response.text, 'html.parser')"
   ]
  },
  {
   "cell_type": "code",
   "execution_count": 3,
   "metadata": {},
   "outputs": [
    {
     "data": {
      "text/plain": [
       "156"
      ]
     },
     "execution_count": 3,
     "metadata": {},
     "output_type": "execute_result"
    }
   ],
   "source": [
    "# ## What are the containers of the stories on the NYT website???\n",
    "stories = doc.find_all(class_='story')\n",
    "len(stories)"
   ]
  },
  {
   "cell_type": "code",
   "execution_count": 4,
   "metadata": {},
   "outputs": [
    {
     "data": {
      "text/plain": [
       "[{'headline': 'Trump Retreating After Border Policy Outcry'},\n",
       " {'headline': 'Families Would Be Detained Together, Not Separated',\n",
       "  'byline': 'By MAGGIE HABERMAN and MICHAEL D. SHEAR 12:42 PM ET'},\n",
       " {'headline': 'On Mexico’s Migrant Trail, Trump Policy Means Tough Choices',\n",
       "  'byline': 'By KIRK SEMPLE 2:15 PM ET'},\n",
       " {'headline': 'Authorities Open ‘Tender Age’ Shelters for Young Children'},\n",
       " {'headline': 'Evangelical Leaders Lament Separations, but Still Stand Behind Trump'},\n",
       " {'headline': 'A Troubling Prognosis for Migrant Children in Detention'},\n",
       " {},\n",
       " {'headline': 'Once a Target of Trump’s Rage, Now She Protects Him',\n",
       "  'byline': 'By ELIZABETH WILLIAMSON and RON NIXON 9:05 AM ET'},\n",
       " {'headline': 'Walmart ‘Surprised’ Store Is a Shelter. There Were Hints.',\n",
       "  'byline': 'By MICHAEL CORKERY 10:55 AM ET'},\n",
       " {'headline': 'Children Taken at the Border Arrive in New York',\n",
       "  'byline': 'By LIZ ROBBINS 1:40 PM ET'},\n",
       " {'headline': 'Immigration Myths and Global Realities',\n",
       "  'byline': 'By EDUARDO PORTER and KARL RUSSELL'},\n",
       " {'headline': 'Bloomberg to Back House Democrats With $80 Million',\n",
       "  'byline': 'By ALEXANDER BURNS 2:17 PM ET'},\n",
       " {'headline': 'Outside Trump Hotel, Tumult. Inside, a Sea of Conservative Cash.',\n",
       "  'byline': 'By KATIE ROGERS and KENNETH P. VOGEL 1:04 PM ET'},\n",
       " {'headline': 'A Conservative Think Tank Stocks the Trump Government',\n",
       "  'byline': 'By JONATHAN MAHLER'},\n",
       " {'headline': 'At Ground Zero in Nicaragua’s Bloody War to End Protests',\n",
       "  'byline': 'By ELISABETH MALKIN 10:12 AM ET'},\n",
       " {'headline': 'Veterans End Up in Debt Over Survivor Benefit Charges',\n",
       "  'byline': 'By SARA JERVING'},\n",
       " {'headline': 'More Deaths Than Births Among Whites in Many U.S. States',\n",
       "  'byline': 'By SABRINA TAVERNISE'},\n",
       " {'headline': 'Cardinal Accused of Abuse Is Suspended From Ministry',\n",
       "  'byline': 'By LAURIE GOODSTEIN 1:02 PM ET'},\n",
       " {'headline': 'Infamous Russian Drug-Testing Lab Is Now a Gastro Pub',\n",
       "  'byline': 'By ANDREW KEH and REBECCA R. RUIZ 10:06 AM ET'},\n",
       " {'headline': 'Live Updates and Analysis: Spain vs. Iran 2:55 PM ET'},\n",
       " {'headline': 'In Spain and Iran, Two Coaches Wise in the Ways It Can Go 1:38 PM ET'},\n",
       " {'headline': '1,600 Degrees and Mass Destruction: Explore a Town a Volcano Made a Tomb',\n",
       "  'byline': 'By THE NEW YORK TIMES'},\n",
       " {'headline': 'Your Wednesday Briefing',\n",
       "  'byline': 'By CHRIS STANFORD 12:54 PM ET'},\n",
       " {'headline': 'California Today: Garcetti Not a Fan of the Jungle Primary',\n",
       "  'byline': 'By ADAM NAGOURNEY and MATT STEVENS'},\n",
       " {'headline': 'Listen to ‘The Daily’: Forced Apart'},\n",
       " {'headline': 'Listen to ‘The Daily’: Forced Apart'},\n",
       " {'headline': 'Hurricane Season Has Begun. Do You Need Flood Insurance?',\n",
       "  'byline': 'By ANN CARRNS'},\n",
       " {'headline': 'Graduation Gift Ideas'},\n",
       " {},\n",
       " {'headline': 'Where a Taboo Leads to the Deaths of Young Women',\n",
       "  'byline': 'By JEFFREY GETTLEMAN'},\n",
       " {'headline': 'The Glamorous Grandmas of Instagram',\n",
       "  'byline': 'By RUTH LA FERLA 1:27 PM ET'},\n",
       " {'headline': 'Warhol at the Whitney: From Myth to Man',\n",
       "  'byline': 'By HILARIE M. SHEETS'},\n",
       " {'headline': 'A Study on Drinking That They Wanted to Call ‘Cheers’',\n",
       "  'byline': 'By RONI CARYN RABIN 2:05 PM ET'},\n",
       " {'headline': 'Giuliani Promised a Surprise. Comey Delivered One.',\n",
       "  'byline': 'By JIM DWYER'},\n",
       " {'headline': 'Amazon, Berkshire Hathaway and JPMorgan Name Health C.E.O.'},\n",
       " {'headline': 'Disney Raises Offer for 21st Century Fox in Bidding War'},\n",
       " {'headline': 'Investigators Questioned Giuliani in Leak Inquiry, He Says'},\n",
       " {'headline': 'U.S. Judge Criticizes F.B.I. Over Dylann Roof’s Gun Purchase'},\n",
       " {'headline': '9 Ways to Get the Most Out of Your Times Subscription',\n",
       "  'byline': 'By THE NEW YORK TIMES'},\n",
       " {'headline': 'It’s Almost Summer. Finally.'},\n",
       " {'headline': 'Gender Letter'},\n",
       " {'headline': 'Australia’s Anxiety About World Affairs'},\n",
       " {'headline': 'When Texans Try Vegemite'},\n",
       " {'headline': 'Huawei’s New Front in the Global Technology Cold War: Australia'},\n",
       " {'headline': 'In Venice, a Biennale Show About Hooking Up'},\n",
       " {'headline': 'Photographing Ordinary Life in Passing'},\n",
       " {'headline': 'With New Album, Dawes Is Unlocking Its Future'},\n",
       " {'headline': '‘If It Could Happen to Them, Why Can’t It Happen to Us?’',\n",
       "  'byline': 'By JEANINE CUMMINS'},\n",
       " {'headline': 'American Internment Camps',\n",
       "  'byline': 'By RICHARD PARKER 12:40 PM ET'},\n",
       " {'headline': 'Bruni: Donald Trump’s Small Hostages'},\n",
       " {'headline': 'The Dystopia Is Here'},\n",
       " {'headline': 'Beyond Trump’s Korea Fantasies'},\n",
       " {'headline': 'If You Want to Be Speaker, Mr. Crowley, Don’t Take Voters for Granted'},\n",
       " {'headline': 'The World Cup Is Fun. Except for the Russians Being Tortured.',\n",
       "  'byline': 'By ALEXEY KOVALEV 1:43 PM ET'},\n",
       " {'headline': 'Sign Up for Our World Cup Newsletter »'},\n",
       " {'headline': 'Douthat: The Handmaids of Capitalism 9:54 AM ET'},\n",
       " {'headline': 'Friedman: Trump to Dictators: Have a Nice Day'},\n",
       " {'headline': 'Leonhardt: The Two Biggest Problems With College'},\n",
       " {'headline': 'The Illuminations of Hannah Arendt 11:00 AM ET'},\n",
       " {'headline': 'I Am Running for President in Turkey. From Prison.'},\n",
       " {'headline': 'Why the U.S. Should Drop All Tariffs'},\n",
       " {'headline': 'Meet the Woman Who ‘Really Runs’ the New York Times Newsroom'},\n",
       " {'headline': 'We Want to Hear From You'},\n",
       " {'headline': 'Play Today’s Puzzle'},\n",
       " {'headline': 'Meet the Woman Who ‘Really Runs’ the New York Times Newsroom'},\n",
       " {'headline': 'Play Today’s Puzzle'},\n",
       " {'headline': 'Play Today’s Puzzle'},\n",
       " {},\n",
       " {},\n",
       " {'headline': 'Review: Waiting for Po-Po in a Searing ‘Pass Over’'},\n",
       " {'headline': 'The Best Way to Fix Gerrymandering'},\n",
       " {'headline': 'The Elephant’s Superb Nose'},\n",
       " {'headline': 'What Kind of Art Does an Artist Like?'},\n",
       " {'headline': 'How Trickle-Down Economics Won the Colombian Election'},\n",
       " {'headline': 'Dr. Adel Mahmoud Dies; Credited With Vaccines'},\n",
       " {'headline': 'On Mexico’s Migrant Trail: Confusion and Tough Choices'},\n",
       " {'headline': 'Hungary Passes ‘Stop Soros’ Law Criminalizing Aid to Migrants'},\n",
       " {'headline': 'As Kim Ends Beijing Visit, China and North Korea Craft New Messages'},\n",
       " {'headline': 'Immigration Myths and Global Realities'},\n",
       " {'headline': 'Walmart ‘Surprised’ Old Store Is a Migrant Shelter. Records Hinted at the Possibility.'},\n",
       " {'headline': 'Disney Raises Offer for 21st Century Fox in Bidding War With Comcast'},\n",
       " {'headline': 'American Internment Camps'},\n",
       " {'headline': '‘If It Could Happen to Them, Why Can’t It Happen to Us?’'},\n",
       " {'headline': 'Ross Douthat: The Handmaids of Capitalism'},\n",
       " {'headline': 'Where Trump’s ‘Zero Tolerance’ Immigration Policy Began'},\n",
       " {'headline': 'Kirstjen Nielsen Is Confronted by Protesters at Mexican Restaurant: ‘Shame!’'},\n",
       " {'headline': 'What’s Behind the ‘Tender Age’ Shelters Opening for Young Migrants'},\n",
       " {'headline': 'State of the Art: How Tech Companies Conquered America’s Cities'},\n",
       " {'headline': 'Microsoft Employees Protest Work With ICE, as Tech Industry Mobilizes Over Immigration'},\n",
       " {'headline': 'IBM Unveils System That ‘Debates’ With Humans'},\n",
       " {'headline': 'Josh Brolin Fears the Summer of Josh Brolin'},\n",
       " {'headline': 'In Venice, Center of Cruising, a Biennale Show About Hooking Up'},\n",
       " {'headline': 'Dawes Has Been Tied to the Past. The Band’s New Album Unlocks Its Future.'},\n",
       " {'headline': 'Steve Schmidt, Longtime G.O.P. Strategist, Quits ‘Corrupt’ and ‘Immoral’ Party'},\n",
       " {'headline': 'Michael Bloomberg Will Spend $80 Million on the Midterms. His Goal: Flip the House.'},\n",
       " {'headline': 'Trump Plans Executive Order to Allow Detaining Families Together Indefinitely'},\n",
       " {'headline': 'The Glamorous Grandmas of Instagram'},\n",
       " {'headline': 'Skin Deep: The Wellness World’s Buzzy New Best Friend'},\n",
       " {'headline': 'Missed the Latest Supreme Drop? Head to Grailed'},\n",
       " {'headline': 'Josh Brolin Fears the Summer of Josh Brolin'},\n",
       " {'headline': 'Kevin Spacey Film to Hit Theaters Despite Sexual Misconduct Accusations'},\n",
       " {'headline': '‘Incredibles 2’ Moviegoers Warned About Possible Seizures'},\n",
       " {'headline': 'Children Taken at the Border Arrive in New York'},\n",
       " {'headline': 'American Cardinal Accused of Sexually Abusing Minor Is Suspended From Ministry'},\n",
       " {'headline': 'Marijuana in New York: Here’s How the Laws Are Changing'},\n",
       " {'headline': 'One Magic Ronaldo Moment Is All Portugal Needs vs. Morocco'},\n",
       " {'headline': 'World Cup 2018: Spain vs. Iran Live Updates'},\n",
       " {'headline': 'The Infamous Sochi Drug-Testing Lab Is Now a Gastro Pub'},\n",
       " {'headline': 'Falling for the Lure of the Stage. The Backstage.'},\n",
       " {'headline': 'Review: ‘Sugar in Our Wounds’ May Make You Cry About the Past, and the Present'},\n",
       " {'headline': 'Review: A Cool-Tempered ‘Othello’ for Warm Central Park Nights'},\n",
       " {'headline': 'ScienceTake: The Elephant’s Superb Nose'},\n",
       " {'headline': 'Trilobites: Sea Stars Started Dissolving. What Helped Some of Them Survive?'},\n",
       " {'headline': 'Mammals Go Nocturnal in Bid to Avoid Humans'},\n",
       " {'headline': 'Peter Thomson, 88, Australian Golfer With 5 British Open Wins, Dies'},\n",
       " {'headline': 'Bonaldo Giaiotti, Stalwart Operatic Bass, Dies at 85'},\n",
       " {'headline': 'Matt Murphy, Master of Blues Guitar, Is Dead at 88'},\n",
       " {'headline': 'Fox News Faces Criticism of Family Separation Coverage From Inside Murdoch Empire'},\n",
       " {'headline': 'The First Time: Betty Gilpin: The First Time I Bought a Crumbling 1834 Farmhouse'},\n",
       " {'headline': 'Best of Late Night: Colbert Says Sanders Can’t Hide From Trump’s Immigration Policies'},\n",
       " {'headline': 'Amazon, Berkshire Hathaway and JPMorgan Name C.E.O. for Health Initiative'},\n",
       " {'headline': 'A Troubling Prognosis for Migrant Children in Detention: ‘The Earlier They’re Out, the Better’'},\n",
       " {'headline': 'Global Health: Nearly Eradicated in Humans, the Guinea Worm Finds New Victims: Dogs'},\n",
       " {'headline': 'Explorer: On a Canoe Trip Along the U.S.-Canada Border, Solitude and Shooting Stars'},\n",
       " {'headline': '5 Places: Five Places to Go in Bantam, Conn.'},\n",
       " {'headline': 'The 52 Places Traveler: Place 18 of 52: From Refugees to a Reunion, Buffalo Lives Up to Its Welcoming Reputation'},\n",
       " {'headline': 'Books of The Times: Seeing the Art World Through Personal and Political Lenses'},\n",
       " {'headline': 'Books of The Times: Sonnets That Reckon With Donald Trump’s America'},\n",
       " {'headline': 'Applied Reading: Harry Potter in Your Pocket'},\n",
       " {'headline': 'Colleges and State Laws Are Clamping Down on Fraternities'},\n",
       " {'headline': 'In the Age of Trump, Civics Courses Make a Comeback'},\n",
       " {'headline': 'Colleges Grapple With Where — or Whether — to Draw the Line on Free Speech'},\n",
       " {'headline': 'Discovering the Art of Craft'},\n",
       " {'headline': 'Restaurant Review: Legacy Records Looks for History in a Brand New Neighborhood'},\n",
       " {'headline': 'Osteria Francescana Tops World’s 50 Best Restaurants List'},\n",
       " {'headline': 'Doctors Don’t Know Why This Teenager Can’t Keep Down Food and Drink. Can You Help?'},\n",
       " {'headline': 'Feature: How One Conservative Think Tank Is Stocking Trump’s Government'},\n",
       " {'headline': 'At War: Veterans Owe Thousands for Survivor Benefits. Why Can’t They Opt Out?'},\n",
       " {'headline': 'International Real Estate: House Hunting in … Hungary'},\n",
       " {'headline': 'What You Get: $250,000 Homes in Vermont, Virginia and New York'},\n",
       " {'headline': 'Living In: Upper Saddle River, N.J.: Quiet and Neat as a Pin'},\n",
       " {'headline': 'Congress Is Writing Lots of Opioid Bills. But Which Ones Will Actually Help?'},\n",
       " {'headline': 'The New Health Care: Why the Medical Research Grant System Could Be Costing Us Great Ideas'},\n",
       " {'headline': 'Trade Skirmish or War? Who Gets Hurt?'},\n",
       " {'headline': 'After Volcano Eruption in Guatemala, Re-creating a Truck Covered in Ash'},\n",
       " {'headline': 'Meet the Woman Who ‘Really Runs’ the New York Times Newsroom'},\n",
       " {'headline': 'Writing About Earthquakes, and Feeling One'},\n",
       " {'headline': 'Elon Musk Accuses Tesla Employee of Sabotage'},\n",
       " {'headline': 'Wheels: When Cars Do the Driving, Who Will Feel the Joy?'},\n",
       " {'headline': 'Ford Aims to Revive a Detroit Train Station, and Itself'},\n",
       " {'headline': 'Meet an Artist Who Matches His Suit to His Couch'},\n",
       " {'headline': 'T Agitprop: 13 Artists On: Immigration'},\n",
       " {'headline': 'How an Art Dealer Became an Up-and-Coming Painter'},\n",
       " {'headline': 'House Hunting in … Hungary',\n",
       "  'byline': 'By ROXANA POPESCU 9:30 AM ET'},\n",
       " {'headline': 'Search for Homes for Sale or Rent'},\n",
       " {'headline': 'Mortgage Calculator'}]"
      ]
     },
     "execution_count": 4,
     "metadata": {},
     "output_type": "execute_result"
    }
   ],
   "source": [
    "# * 'story-heading' is the title\n",
    "# * 'byline' is the byline\n",
    "list_of_stories = []\n",
    "\n",
    "for story in stories:\n",
    "    story_dict = {}\n",
    "    headline = story.find(class_='story-heading')\n",
    "    byline = story.find(class_='byline')\n",
    "    if headline:\n",
    "        story_dict['headline'] = headline.text.strip()\n",
    "    if byline:\n",
    "        story_dict['byline'] = byline.text.strip()\n",
    "    list_of_stories.append(story_dict)\n",
    "\n",
    "list_of_stories"
   ]
  },
  {
   "cell_type": "code",
   "execution_count": 5,
   "metadata": {},
   "outputs": [
    {
     "data": {
      "text/html": [
       "<div>\n",
       "<style scoped>\n",
       "    .dataframe tbody tr th:only-of-type {\n",
       "        vertical-align: middle;\n",
       "    }\n",
       "\n",
       "    .dataframe tbody tr th {\n",
       "        vertical-align: top;\n",
       "    }\n",
       "\n",
       "    .dataframe thead th {\n",
       "        text-align: right;\n",
       "    }\n",
       "</style>\n",
       "<table border=\"1\" class=\"dataframe\">\n",
       "  <thead>\n",
       "    <tr style=\"text-align: right;\">\n",
       "      <th></th>\n",
       "      <th>byline</th>\n",
       "      <th>headline</th>\n",
       "    </tr>\n",
       "  </thead>\n",
       "  <tbody>\n",
       "    <tr>\n",
       "      <th>0</th>\n",
       "      <td>NaN</td>\n",
       "      <td>Trump Retreating After Border Policy Outcry</td>\n",
       "    </tr>\n",
       "    <tr>\n",
       "      <th>1</th>\n",
       "      <td>By MAGGIE HABERMAN and MICHAEL D. SHEAR 12:42 ...</td>\n",
       "      <td>Families Would Be Detained Together, Not Separ...</td>\n",
       "    </tr>\n",
       "    <tr>\n",
       "      <th>2</th>\n",
       "      <td>By KIRK SEMPLE 2:15 PM ET</td>\n",
       "      <td>On Mexico’s Migrant Trail, Trump Policy Means ...</td>\n",
       "    </tr>\n",
       "    <tr>\n",
       "      <th>3</th>\n",
       "      <td>NaN</td>\n",
       "      <td>Authorities Open ‘Tender Age’ Shelters for You...</td>\n",
       "    </tr>\n",
       "    <tr>\n",
       "      <th>4</th>\n",
       "      <td>NaN</td>\n",
       "      <td>Evangelical Leaders Lament Separations, but St...</td>\n",
       "    </tr>\n",
       "  </tbody>\n",
       "</table>\n",
       "</div>"
      ],
      "text/plain": [
       "                                              byline  \\\n",
       "0                                                NaN   \n",
       "1  By MAGGIE HABERMAN and MICHAEL D. SHEAR 12:42 ...   \n",
       "2                          By KIRK SEMPLE 2:15 PM ET   \n",
       "3                                                NaN   \n",
       "4                                                NaN   \n",
       "\n",
       "                                            headline  \n",
       "0        Trump Retreating After Border Policy Outcry  \n",
       "1  Families Would Be Detained Together, Not Separ...  \n",
       "2  On Mexico’s Migrant Trail, Trump Policy Means ...  \n",
       "3  Authorities Open ‘Tender Age’ Shelters for You...  \n",
       "4  Evangelical Leaders Lament Separations, but St...  "
      ]
     },
     "execution_count": 5,
     "metadata": {},
     "output_type": "execute_result"
    }
   ],
   "source": [
    "df = pd.DataFrame(list_of_stories)\n",
    "df.head()"
   ]
  },
  {
   "cell_type": "code",
   "execution_count": 17,
   "metadata": {},
   "outputs": [
    {
     "data": {
      "text/plain": [
       "datetime.datetime(2018, 6, 20, 15, 58, 56, 439758)"
      ]
     },
     "execution_count": 17,
     "metadata": {},
     "output_type": "execute_result"
    }
   ],
   "source": [
    "import datetime\n",
    "\n",
    "right_now = datetime.datetime.now()\n",
    "right_now"
   ]
  },
  {
   "cell_type": "code",
   "execution_count": 18,
   "metadata": {},
   "outputs": [
    {
     "data": {
      "text/plain": [
       "'2018-06-20_15_58_56'"
      ]
     },
     "execution_count": 18,
     "metadata": {},
     "output_type": "execute_result"
    }
   ],
   "source": [
    "right_now.strftime(\"%Y-%m-%d_%H_%M_%S\")"
   ]
  },
  {
   "cell_type": "code",
   "execution_count": 19,
   "metadata": {},
   "outputs": [],
   "source": [
    "nyt_6pm_briefing = \"nyt-\" + right_now.strftime(\"%Y-%m-%d_%H_%M_%S\") + \".csv\"\n",
    "df.to_csv(filename, index=False)"
   ]
  },
  {
   "cell_type": "code",
   "execution_count": 20,
   "metadata": {},
   "outputs": [
    {
     "data": {
      "text/plain": [
       "'nyt-2018-06-20_15_58_56.csv'"
      ]
     },
     "execution_count": 20,
     "metadata": {},
     "output_type": "execute_result"
    }
   ],
   "source": [
    "nyt_6pm_briefing"
   ]
  },
  {
   "cell_type": "code",
   "execution_count": null,
   "metadata": {},
   "outputs": [],
   "source": []
  },
  {
   "cell_type": "code",
   "execution_count": 21,
   "metadata": {},
   "outputs": [
    {
     "data": {
      "text/plain": [
       "<Response [200]>"
      ]
     },
     "execution_count": 21,
     "metadata": {},
     "output_type": "execute_result"
    }
   ],
   "source": [
    "requests.post(\n",
    "        \"https://api.mailgun.net/v3/sandbox21a65dc49d5d4e18b26aadb9c8e979d3.mailgun.org/messages\",\n",
    "        auth=(\"api\", \"c3c5f6073c2c691e88336c7c3ee89028-0470a1f7-bb9b88d6\"),\n",
    "        files=[(\"attachment\", open(\"nyt-2018-06-20_15_05_23.csv\"))],\n",
    "        data={\"from\": \"Excited User <mailgun@sandbox21a65dc49d5d4e18b26aadb9c8e979d3.mailgun.org>\",\n",
    "              \"to\": \"Benjamin Bitoun <benbitoun@gmail.com>\",\n",
    "              \"subject\": \"NY Times scrape\",\n",
    "              \"text\": nyt_6pm_briefing}) "
   ]
  },
  {
   "cell_type": "code",
   "execution_count": null,
   "metadata": {},
   "outputs": [],
   "source": []
  }
 ],
 "metadata": {
  "kernelspec": {
   "display_name": "Python 3",
   "language": "python",
   "name": "python3"
  },
  "language_info": {
   "codemirror_mode": {
    "name": "ipython",
    "version": 3
   },
   "file_extension": ".py",
   "mimetype": "text/x-python",
   "name": "python",
   "nbconvert_exporter": "python",
   "pygments_lexer": "ipython3",
   "version": "3.6.4"
  }
 },
 "nbformat": 4,
 "nbformat_minor": 2
}
