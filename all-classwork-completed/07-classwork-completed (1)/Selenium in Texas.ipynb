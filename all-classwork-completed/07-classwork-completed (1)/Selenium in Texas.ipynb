{
 "cells": [
  {
   "cell_type": "code",
   "execution_count": 1,
   "metadata": {},
   "outputs": [],
   "source": [
    "from selenium import webdriver\n",
    "from selenium.webdriver.common.keys import Keys\n",
    "from selenium.webdriver.support.ui import Select\n",
    "from selenium.webdriver.support.ui import WebDriverWait\n"
   ]
  },
  {
   "cell_type": "code",
   "execution_count": 3,
   "metadata": {},
   "outputs": [],
   "source": [
    "# Make a new Chrome, and make it visit https://www.tdlr.texas.gov/cimsfo/fosearch.asp"
   ]
  },
  {
   "cell_type": "code",
   "execution_count": 68,
   "metadata": {},
   "outputs": [],
   "source": [
    "driver = webdriver.Chrome()"
   ]
  },
  {
   "cell_type": "code",
   "execution_count": 73,
   "metadata": {},
   "outputs": [],
   "source": [
    "driver.get('https://www.tdlr.texas.gov/cimsfo/fosearch.asp')"
   ]
  },
  {
   "cell_type": "code",
   "execution_count": 62,
   "metadata": {},
   "outputs": [
    {
     "data": {
      "text/plain": [
       "<selenium.webdriver.remote.webelement.WebElement (session=\"fdf7cafea91a20c23f62759afbe04bfc\", element=\"0.21401406878187146-1\")>"
      ]
     },
     "execution_count": 62,
     "metadata": {},
     "output_type": "execute_result"
    }
   ],
   "source": [
    "# last_name = driver.find_element_by_name('pht_lnm')\n",
    "# last_name.send_keys(\"Sm\")\n",
    "driver.find_element_by_name(\"pht_status\")"
   ]
  },
  {
   "cell_type": "code",
   "execution_count": 74,
   "metadata": {},
   "outputs": [],
   "source": [
    "dropdown = Select(driver.find_element_by_name(\"pht_status\"))\n",
    "dropdown.select_by_visible_text('Barbers')"
   ]
  },
  {
   "cell_type": "markdown",
   "metadata": {},
   "source": [
    "//*[@id=\"dat-menu\"]/div/div[2]/div/div/section/div/div/table/tbody/tr/td/form/table/tbody/tr[18]/td/input[1]"
   ]
  },
  {
   "cell_type": "code",
   "execution_count": 75,
   "metadata": {},
   "outputs": [],
   "source": [
    "button = driver.find_element_by_name('B1')\n",
    "driver.execute_script(\"arguments[0].scrollIntoView(true)\", button)\n",
    "button.click()"
   ]
  },
  {
   "cell_type": "markdown",
   "metadata": {},
   "source": [
    "# Scraping [Mines data](https://arlweb.msha.gov/drs/drshome.htm)\n",
    "\n",
    "Useful Selenium snippets can be found [here](http://jonathansoma.com/lede/foundations-2018/classes/selenium/selenium-snippets/)"
   ]
  },
  {
   "cell_type": "code",
   "execution_count": 76,
   "metadata": {},
   "outputs": [],
   "source": [
    "from selenium import webdriver\n",
    "from selenium.webdriver.common.keys import Keys\n",
    "from selenium.webdriver.support.ui import Select\n",
    "from selenium.webdriver.support.ui import WebDriverWait"
   ]
  },
  {
   "cell_type": "code",
   "execution_count": 77,
   "metadata": {},
   "outputs": [],
   "source": [
    "driver = webdriver.Chrome()"
   ]
  },
  {
   "cell_type": "markdown",
   "metadata": {},
   "source": [
    "### 1) Tell Chrome to visit the page"
   ]
  },
  {
   "cell_type": "code",
   "execution_count": 85,
   "metadata": {},
   "outputs": [],
   "source": [
    "driver.get('https://arlweb.msha.gov/drs/drshome.htm')"
   ]
  },
  {
   "cell_type": "markdown",
   "metadata": {},
   "source": [
    "### 2) Grab the element you want to type the contractor name into"
   ]
  },
  {
   "cell_type": "code",
   "execution_count": 86,
   "metadata": {},
   "outputs": [],
   "source": [
    "text_input = driver.find_element_by_name('CntCtrSearch')"
   ]
  },
  {
   "cell_type": "markdown",
   "metadata": {},
   "source": [
    "### 3) Tell Selenium to scroll down to it"
   ]
  },
  {
   "cell_type": "code",
   "execution_count": 83,
   "metadata": {},
   "outputs": [],
   "source": [
    "driver.execute_script(\"arguments[0].scrollIntoView(true)\", text_input)"
   ]
  },
  {
   "cell_type": "markdown",
   "metadata": {},
   "source": [
    "### 4) Type into the contractor name element"
   ]
  },
  {
   "cell_type": "code",
   "execution_count": 87,
   "metadata": {},
   "outputs": [],
   "source": [
    "text_input.send_keys('Smith')"
   ]
  },
  {
   "cell_type": "markdown",
   "metadata": {},
   "source": [
    "### 5) Select 'West Virginia' from the dropdown"
   ]
  },
  {
   "cell_type": "code",
   "execution_count": 90,
   "metadata": {},
   "outputs": [],
   "source": [
    "# name is StateSearch\n",
    "\n",
    "# MAKE SURE YOU USE SINGLE QUOTES WHEN DOING XPATH\n",
    "# because otherwise it will get confused about @id=\"content\" or whatever\n",
    "# and think you are ending the string early\n",
    "dropdown = Select(driver.find_element_by_xpath('//*[@id=\"content\"]/table[4]/tbody/tr[4]/td[2]/select'))\n",
    "select.select_by_visible_text('West Virginia')"
   ]
  },
  {
   "cell_type": "markdown",
   "metadata": {},
   "source": [
    "### 6) Click Submit"
   ]
  },
  {
   "cell_type": "code",
   "execution_count": 91,
   "metadata": {},
   "outputs": [],
   "source": [
    "button = driver.find_element_by_xpath('//*[@id=\"content\"]/table[4]/tbody/tr[4]/td[2]/input[1]')\n",
    "button.click()"
   ]
  },
  {
   "cell_type": "markdown",
   "metadata": {},
   "source": [
    "### 7) Scrape the results"
   ]
  },
  {
   "cell_type": "code",
   "execution_count": 93,
   "metadata": {},
   "outputs": [
    {
     "name": "stdout",
     "output_type": "stream",
     "text": [
      "Contractor Name Search  \n",
      "ID Contractor Street City State ZIP More Info\n",
      "HXN\n",
      "Andys Locksmith Inc 904 S Oakwood Ave    Beckley   WV  25801-5801 \n",
      "A7779\n",
      "Arrowsmith of WV Dba Arrowsmith Fabrication 67 43rd St    Wheeling   WV  26003-6003 \n",
      "A7862\n",
      "Beckley Locksmith Service 1929 Stanaford Road, PO Box 20    Beckley   WV  25801-5801 \n",
      "9VE\n",
      "Benjamin F Smith 20 Pleasant St    Piedmont   WV  26750-6750 \n",
      "A1598\n",
      "Benjamin Smith DBA Logan Grace Trucking HC 61, Box 42    Paynesville   WV  24873-4873 \n",
      "WN9\n",
      "Clyde Smith Trucking General Delivery    Nolan   WV  25687-5687 \n",
      "CGB\n",
      "Frank B Smith    MATEWAN   WV  25678-5678 \n",
      "K7L\n",
      "Frazier Smith & Son Truck Inc 3006 East Beckley Station    BECKLEY   WV  25801-5801 \n",
      "LBD\n",
      "Gerald Smith Logging Star Route 1 Box 126    Tioga   WV  26691-6691 \n",
      "E918\n",
      "Judy's Locksmiths, Inc. 534 Burlew Drive    Charleston   WV  25302-5302 \n",
      "RY7\n",
      "L F Smithson Painting Contr 1016 Wilkie Drive    CHARLESTON   WV  25314-5314 \n",
      "M748\n",
      "Paul Smith Plumbing & Heating, Inc. 201 Rakes Road    Shady Spring   WV  25918-5918 \n",
      "MVU\n",
      "Robert Smith Equipment Repair Rt 1 Box 84d    Kingwood   WV  26537-6537 \n",
      "L260\n",
      "Smith & Smith Hardwoods Rt 1, Box 100    Smithfield   WV  26437-6437 \n",
      "UVY\n",
      "Smith Land Surveying Inc    Glenville   WV  26351-6351 \n",
      "CPK\n",
      "Smith Services Inc Rte 290-1    Bluefield   WV  24701-4701 \n",
      "F8B\n",
      "Smith Trucking Rte 1 Box 35    CRUM   WV  25669-5669 \n",
      "3DL\n",
      "William W Smith Excavating Co Rt 8 Box 396b    S Charleston   WV  25309-5309 \n",
      "Total Number of Contractors Found:  18\n"
     ]
    }
   ],
   "source": [
    "contractors = driver.find_elements_by_tag_name('tr')\n",
    "for contractor in contractors:\n",
    "    print(contractor.text)"
   ]
  },
  {
   "cell_type": "code",
   "execution_count": null,
   "metadata": {},
   "outputs": [],
   "source": []
  }
 ],
 "metadata": {
  "kernelspec": {
   "display_name": "Python 3",
   "language": "python",
   "name": "python3"
  },
  "language_info": {
   "codemirror_mode": {
    "name": "ipython",
    "version": 3
   },
   "file_extension": ".py",
   "mimetype": "text/x-python",
   "name": "python",
   "nbconvert_exporter": "python",
   "pygments_lexer": "ipython3",
   "version": "3.6.4"
  }
 },
 "nbformat": 4,
 "nbformat_minor": 2
}
