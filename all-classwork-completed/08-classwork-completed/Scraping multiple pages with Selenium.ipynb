{
 "cells": [
  {
   "cell_type": "code",
   "execution_count": 4,
   "metadata": {},
   "outputs": [],
   "source": [
    "from selenium import webdriver\n",
    "from selenium.webdriver.common.keys import Keys\n",
    "from selenium.webdriver.support.ui import Select\n",
    "from selenium.webdriver.support.ui import WebDriverWait\n",
    "\n",
    "import pandas as pd"
   ]
  },
  {
   "cell_type": "code",
   "execution_count": 5,
   "metadata": {},
   "outputs": [
    {
     "data": {
      "text/html": [
       "<div>\n",
       "<style scoped>\n",
       "    .dataframe tbody tr th:only-of-type {\n",
       "        vertical-align: middle;\n",
       "    }\n",
       "\n",
       "    .dataframe tbody tr th {\n",
       "        vertical-align: top;\n",
       "    }\n",
       "\n",
       "    .dataframe thead th {\n",
       "        text-align: right;\n",
       "    }\n",
       "</style>\n",
       "<table border=\"1\" class=\"dataframe\">\n",
       "  <thead>\n",
       "    <tr style=\"text-align: right;\">\n",
       "      <th></th>\n",
       "      <th>categories</th>\n",
       "      <th>name</th>\n",
       "      <th>price</th>\n",
       "      <th>rating</th>\n",
       "      <th>url</th>\n",
       "    </tr>\n",
       "  </thead>\n",
       "  <tbody>\n",
       "    <tr>\n",
       "      <th>0</th>\n",
       "      <td>Seafood, Burgers</td>\n",
       "      <td>Burger &amp; Lobster</td>\n",
       "      <td>$$</td>\n",
       "      <td>4.0</td>\n",
       "      <td>https://www.yelp.com/biz/burger-and-lobster-ne...</td>\n",
       "    </tr>\n",
       "    <tr>\n",
       "      <th>1</th>\n",
       "      <td>Burgers</td>\n",
       "      <td>The Burgary</td>\n",
       "      <td>$$</td>\n",
       "      <td>4.5</td>\n",
       "      <td>https://www.yelp.com/biz/the-burgary-new-york?...</td>\n",
       "    </tr>\n",
       "    <tr>\n",
       "      <th>2</th>\n",
       "      <td>Gastropubs, Burgers</td>\n",
       "      <td>Juanchi’s Burger</td>\n",
       "      <td>$$</td>\n",
       "      <td>4.5</td>\n",
       "      <td>https://www.yelp.com/biz/juanchis-burger-brook...</td>\n",
       "    </tr>\n",
       "    <tr>\n",
       "      <th>3</th>\n",
       "      <td>Burgers</td>\n",
       "      <td>Black Iron Burger</td>\n",
       "      <td>$$</td>\n",
       "      <td>4.0</td>\n",
       "      <td>https://www.yelp.com/biz/black-iron-burger-new...</td>\n",
       "    </tr>\n",
       "    <tr>\n",
       "      <th>4</th>\n",
       "      <td>American (New), Breakfast &amp; Brunch, Burgers</td>\n",
       "      <td>Benson’s NYC</td>\n",
       "      <td>$$</td>\n",
       "      <td>4.5</td>\n",
       "      <td>https://www.yelp.com/biz/bensons-nyc-new-york?...</td>\n",
       "    </tr>\n",
       "  </tbody>\n",
       "</table>\n",
       "</div>"
      ],
      "text/plain": [
       "                                    categories               name price  \\\n",
       "0                             Seafood, Burgers   Burger & Lobster    $$   \n",
       "1                                      Burgers        The Burgary    $$   \n",
       "2                          Gastropubs, Burgers   Juanchi’s Burger    $$   \n",
       "3                                      Burgers  Black Iron Burger    $$   \n",
       "4  American (New), Breakfast & Brunch, Burgers       Benson’s NYC    $$   \n",
       "\n",
       "   rating                                                url  \n",
       "0     4.0  https://www.yelp.com/biz/burger-and-lobster-ne...  \n",
       "1     4.5  https://www.yelp.com/biz/the-burgary-new-york?...  \n",
       "2     4.5  https://www.yelp.com/biz/juanchis-burger-brook...  \n",
       "3     4.0  https://www.yelp.com/biz/black-iron-burger-new...  \n",
       "4     4.5  https://www.yelp.com/biz/bensons-nyc-new-york?...  "
      ]
     },
     "execution_count": 5,
     "metadata": {},
     "output_type": "execute_result"
    }
   ],
   "source": [
    "df = pd.read_csv(\"yelp.csv\")\n",
    "df.head()"
   ]
  },
  {
   "cell_type": "markdown",
   "metadata": {},
   "source": [
    "# Functions"
   ]
  },
  {
   "cell_type": "code",
   "execution_count": 6,
   "metadata": {},
   "outputs": [
    {
     "data": {
      "text/plain": [
       "18"
      ]
     },
     "execution_count": 6,
     "metadata": {},
     "output_type": "execute_result"
    }
   ],
   "source": [
    "len(\"This is a sentence\")"
   ]
  },
  {
   "cell_type": "code",
   "execution_count": 7,
   "metadata": {},
   "outputs": [
    {
     "data": {
      "text/plain": [
       "4"
      ]
     },
     "execution_count": 7,
     "metadata": {},
     "output_type": "execute_result"
    }
   ],
   "source": [
    "abs(-4)"
   ]
  },
  {
   "cell_type": "code",
   "execution_count": 8,
   "metadata": {},
   "outputs": [
    {
     "data": {
      "text/plain": [
       "5"
      ]
     },
     "execution_count": 8,
     "metadata": {},
     "output_type": "execute_result"
    }
   ],
   "source": [
    "round(5.437262846372)"
   ]
  },
  {
   "cell_type": "code",
   "execution_count": 9,
   "metadata": {},
   "outputs": [
    {
     "data": {
      "text/plain": [
       "5.4372628"
      ]
     },
     "execution_count": 9,
     "metadata": {},
     "output_type": "execute_result"
    }
   ],
   "source": [
    "round(5.437262846372, 7)"
   ]
  },
  {
   "cell_type": "code",
   "execution_count": 10,
   "metadata": {},
   "outputs": [],
   "source": [
    "from statistics import mean"
   ]
  },
  {
   "cell_type": "code",
   "execution_count": 11,
   "metadata": {},
   "outputs": [
    {
     "data": {
      "text/plain": [
       "4.222222222222222"
      ]
     },
     "execution_count": 11,
     "metadata": {},
     "output_type": "execute_result"
    }
   ],
   "source": [
    "mean([4, 6, 1, 2, 3, 4, 5, 6, 7])"
   ]
  },
  {
   "cell_type": "code",
   "execution_count": 24,
   "metadata": {},
   "outputs": [
    {
     "name": "stdout",
     "output_type": "stream",
     "text": [
      "The number is 5\n"
     ]
    }
   ],
   "source": [
    "# def -> I'm going to define a function\n",
    "# add_two_numbers -> the name of the function\n",
    "# (a, b) -> this is what I can give the function\n",
    "# and then you add a colon\n",
    "def add_two_numbers(a, b):\n",
    "    # print(\"I am looking at\", a)\n",
    "    # print(\"I am looking at\", b)\n",
    "    # Send this back!!!!!\n",
    "    return a + b\n",
    "\n",
    "# CHALLENGE: Try to use this function\n",
    "# with the numbers 2 and 3\n",
    "added = add_two_numbers(2, 3)\n",
    "print(\"The number is\", added)"
   ]
  },
  {
   "cell_type": "code",
   "execution_count": 50,
   "metadata": {},
   "outputs": [],
   "source": [
    "# $ - cheap\n",
    "# $$ - normal\n",
    "# $$$ - expensive\n",
    "# $$$$ - really expensive\n",
    "\n",
    "def get_price_range(dollar_signs):\n",
    "    if dollar_signs == \"$\":\n",
    "        return 'cheap'\n",
    "    elif dollar_signs == \"$$\":\n",
    "        return 'normal'\n",
    "    elif dollar_signs == \"$$$\":\n",
    "        return 'expensive'\n",
    "    elif dollar_signs == \"$$$$\":\n",
    "        return 'really expensive'"
   ]
  },
  {
   "cell_type": "code",
   "execution_count": 51,
   "metadata": {},
   "outputs": [
    {
     "data": {
      "text/plain": [
       "'cheap'"
      ]
     },
     "execution_count": 51,
     "metadata": {},
     "output_type": "execute_result"
    }
   ],
   "source": [
    "get_price_range(\"$\")"
   ]
  },
  {
   "cell_type": "markdown",
   "metadata": {},
   "source": [
    "### We have a function, we have a dataframe...\n",
    "\n",
    "Take one of our columns and run `get_price_range` on every single row"
   ]
  },
  {
   "cell_type": "code",
   "execution_count": 58,
   "metadata": {},
   "outputs": [
    {
     "data": {
      "text/html": [
       "<div>\n",
       "<style scoped>\n",
       "    .dataframe tbody tr th:only-of-type {\n",
       "        vertical-align: middle;\n",
       "    }\n",
       "\n",
       "    .dataframe tbody tr th {\n",
       "        vertical-align: top;\n",
       "    }\n",
       "\n",
       "    .dataframe thead th {\n",
       "        text-align: right;\n",
       "    }\n",
       "</style>\n",
       "<table border=\"1\" class=\"dataframe\">\n",
       "  <thead>\n",
       "    <tr style=\"text-align: right;\">\n",
       "      <th></th>\n",
       "      <th>categories</th>\n",
       "      <th>name</th>\n",
       "      <th>price</th>\n",
       "      <th>rating</th>\n",
       "      <th>url</th>\n",
       "      <th>price_range</th>\n",
       "    </tr>\n",
       "  </thead>\n",
       "  <tbody>\n",
       "    <tr>\n",
       "      <th>0</th>\n",
       "      <td>Seafood, Burgers</td>\n",
       "      <td>Burger &amp; Lobster</td>\n",
       "      <td>$$</td>\n",
       "      <td>4.0</td>\n",
       "      <td>https://www.yelp.com/biz/burger-and-lobster-ne...</td>\n",
       "      <td>normal</td>\n",
       "    </tr>\n",
       "    <tr>\n",
       "      <th>1</th>\n",
       "      <td>Burgers</td>\n",
       "      <td>The Burgary</td>\n",
       "      <td>$$</td>\n",
       "      <td>4.5</td>\n",
       "      <td>https://www.yelp.com/biz/the-burgary-new-york?...</td>\n",
       "      <td>normal</td>\n",
       "    </tr>\n",
       "    <tr>\n",
       "      <th>2</th>\n",
       "      <td>Gastropubs, Burgers</td>\n",
       "      <td>Juanchi’s Burger</td>\n",
       "      <td>$$</td>\n",
       "      <td>4.5</td>\n",
       "      <td>https://www.yelp.com/biz/juanchis-burger-brook...</td>\n",
       "      <td>normal</td>\n",
       "    </tr>\n",
       "    <tr>\n",
       "      <th>3</th>\n",
       "      <td>Burgers</td>\n",
       "      <td>Black Iron Burger</td>\n",
       "      <td>$$</td>\n",
       "      <td>4.0</td>\n",
       "      <td>https://www.yelp.com/biz/black-iron-burger-new...</td>\n",
       "      <td>normal</td>\n",
       "    </tr>\n",
       "    <tr>\n",
       "      <th>4</th>\n",
       "      <td>American (New), Breakfast &amp; Brunch, Burgers</td>\n",
       "      <td>Benson’s NYC</td>\n",
       "      <td>$$</td>\n",
       "      <td>4.5</td>\n",
       "      <td>https://www.yelp.com/biz/bensons-nyc-new-york?...</td>\n",
       "      <td>normal</td>\n",
       "    </tr>\n",
       "  </tbody>\n",
       "</table>\n",
       "</div>"
      ],
      "text/plain": [
       "                                    categories               name price  \\\n",
       "0                             Seafood, Burgers   Burger & Lobster    $$   \n",
       "1                                      Burgers        The Burgary    $$   \n",
       "2                          Gastropubs, Burgers   Juanchi’s Burger    $$   \n",
       "3                                      Burgers  Black Iron Burger    $$   \n",
       "4  American (New), Breakfast & Brunch, Burgers       Benson’s NYC    $$   \n",
       "\n",
       "   rating                                                url price_range  \n",
       "0     4.0  https://www.yelp.com/biz/burger-and-lobster-ne...      normal  \n",
       "1     4.5  https://www.yelp.com/biz/the-burgary-new-york?...      normal  \n",
       "2     4.5  https://www.yelp.com/biz/juanchis-burger-brook...      normal  \n",
       "3     4.0  https://www.yelp.com/biz/black-iron-burger-new...      normal  \n",
       "4     4.5  https://www.yelp.com/biz/bensons-nyc-new-york?...      normal  "
      ]
     },
     "execution_count": 58,
     "metadata": {},
     "output_type": "execute_result"
    }
   ],
   "source": [
    "df['price_range'] = df.price.apply(get_price_range)\n",
    "df.head()"
   ]
  },
  {
   "cell_type": "code",
   "execution_count": 67,
   "metadata": {},
   "outputs": [],
   "source": [
    "def get_somas_opinion(row):\n",
    "    # If it's cheap, and if the word \"Seafood\" is not in the category\n",
    "    if row['price'] == '$' and 'Seafood' not in row['categories']:\n",
    "        return 'love'\n",
    "    else:\n",
    "        return 'hate'"
   ]
  },
  {
   "cell_type": "code",
   "execution_count": 70,
   "metadata": {},
   "outputs": [
    {
     "data": {
      "text/html": [
       "<div>\n",
       "<style scoped>\n",
       "    .dataframe tbody tr th:only-of-type {\n",
       "        vertical-align: middle;\n",
       "    }\n",
       "\n",
       "    .dataframe tbody tr th {\n",
       "        vertical-align: top;\n",
       "    }\n",
       "\n",
       "    .dataframe thead th {\n",
       "        text-align: right;\n",
       "    }\n",
       "</style>\n",
       "<table border=\"1\" class=\"dataframe\">\n",
       "  <thead>\n",
       "    <tr style=\"text-align: right;\">\n",
       "      <th></th>\n",
       "      <th>categories</th>\n",
       "      <th>name</th>\n",
       "      <th>price</th>\n",
       "      <th>rating</th>\n",
       "      <th>url</th>\n",
       "      <th>price_range</th>\n",
       "      <th>somas_opinion</th>\n",
       "    </tr>\n",
       "  </thead>\n",
       "  <tbody>\n",
       "    <tr>\n",
       "      <th>0</th>\n",
       "      <td>Seafood, Burgers</td>\n",
       "      <td>Burger &amp; Lobster</td>\n",
       "      <td>$$</td>\n",
       "      <td>4.0</td>\n",
       "      <td>https://www.yelp.com/biz/burger-and-lobster-ne...</td>\n",
       "      <td>normal</td>\n",
       "      <td>hate</td>\n",
       "    </tr>\n",
       "    <tr>\n",
       "      <th>1</th>\n",
       "      <td>Burgers</td>\n",
       "      <td>The Burgary</td>\n",
       "      <td>$$</td>\n",
       "      <td>4.5</td>\n",
       "      <td>https://www.yelp.com/biz/the-burgary-new-york?...</td>\n",
       "      <td>normal</td>\n",
       "      <td>hate</td>\n",
       "    </tr>\n",
       "    <tr>\n",
       "      <th>2</th>\n",
       "      <td>Gastropubs, Burgers</td>\n",
       "      <td>Juanchi’s Burger</td>\n",
       "      <td>$$</td>\n",
       "      <td>4.5</td>\n",
       "      <td>https://www.yelp.com/biz/juanchis-burger-brook...</td>\n",
       "      <td>normal</td>\n",
       "      <td>hate</td>\n",
       "    </tr>\n",
       "    <tr>\n",
       "      <th>3</th>\n",
       "      <td>Burgers</td>\n",
       "      <td>Black Iron Burger</td>\n",
       "      <td>$$</td>\n",
       "      <td>4.0</td>\n",
       "      <td>https://www.yelp.com/biz/black-iron-burger-new...</td>\n",
       "      <td>normal</td>\n",
       "      <td>hate</td>\n",
       "    </tr>\n",
       "    <tr>\n",
       "      <th>4</th>\n",
       "      <td>American (New), Breakfast &amp; Brunch, Burgers</td>\n",
       "      <td>Benson’s NYC</td>\n",
       "      <td>$$</td>\n",
       "      <td>4.5</td>\n",
       "      <td>https://www.yelp.com/biz/bensons-nyc-new-york?...</td>\n",
       "      <td>normal</td>\n",
       "      <td>hate</td>\n",
       "    </tr>\n",
       "  </tbody>\n",
       "</table>\n",
       "</div>"
      ],
      "text/plain": [
       "                                    categories               name price  \\\n",
       "0                             Seafood, Burgers   Burger & Lobster    $$   \n",
       "1                                      Burgers        The Burgary    $$   \n",
       "2                          Gastropubs, Burgers   Juanchi’s Burger    $$   \n",
       "3                                      Burgers  Black Iron Burger    $$   \n",
       "4  American (New), Breakfast & Brunch, Burgers       Benson’s NYC    $$   \n",
       "\n",
       "   rating                                                url price_range  \\\n",
       "0     4.0  https://www.yelp.com/biz/burger-and-lobster-ne...      normal   \n",
       "1     4.5  https://www.yelp.com/biz/the-burgary-new-york?...      normal   \n",
       "2     4.5  https://www.yelp.com/biz/juanchis-burger-brook...      normal   \n",
       "3     4.0  https://www.yelp.com/biz/black-iron-burger-new...      normal   \n",
       "4     4.5  https://www.yelp.com/biz/bensons-nyc-new-york?...      normal   \n",
       "\n",
       "  somas_opinion  \n",
       "0          hate  \n",
       "1          hate  \n",
       "2          hate  \n",
       "3          hate  \n",
       "4          hate  "
      ]
     },
     "execution_count": 70,
     "metadata": {},
     "output_type": "execute_result"
    }
   ],
   "source": [
    "# EVERY SINGLE TIME YOU DO DF.APPLY\n",
    "# YOU HAVE TO USE AXIS=1 OR ELSE \n",
    "# YOU'LL GET AN ERROR THAT YOU WON'T\n",
    "# UNDERSTAND BECAUSE THE ERROR IS NOT\n",
    "# \"YOU SHOULD HAVE USED AXIS=1,\" IT'S\n",
    "# SOMETHING UNIQUE AND BAD\n",
    "df['somas_opinion'] = df.apply(get_somas_opinion, axis=1)\n",
    "df.head()"
   ]
  },
  {
   "cell_type": "markdown",
   "metadata": {},
   "source": [
    "# Step 1: Let's just scrape one page first\n",
    "\n",
    "We want to visit the page and get the address"
   ]
  },
  {
   "cell_type": "code",
   "execution_count": 71,
   "metadata": {},
   "outputs": [],
   "source": [
    "# Open up a Chrome\n",
    "driver = webdriver.Chrome()"
   ]
  },
  {
   "cell_type": "code",
   "execution_count": 72,
   "metadata": {},
   "outputs": [],
   "source": [
    "# Visit the URL\n",
    "url = \"https://www.yelp.com/biz/burger-and-lobster-new-york?osq=burgers\"\n",
    "driver.get(url)"
   ]
  },
  {
   "cell_type": "code",
   "execution_count": 75,
   "metadata": {},
   "outputs": [
    {
     "data": {
      "text/plain": [
       "'39 W 19th St\\nNew York, NY 10011'"
      ]
     },
     "execution_count": 75,
     "metadata": {},
     "output_type": "execute_result"
    }
   ],
   "source": [
    "address = driver.find_element_by_class_name(\"street-address\").text\n",
    "address"
   ]
  },
  {
   "cell_type": "code",
   "execution_count": 76,
   "metadata": {},
   "outputs": [
    {
     "data": {
      "text/plain": [
       "'10011'"
      ]
     },
     "execution_count": 76,
     "metadata": {},
     "output_type": "execute_result"
    }
   ],
   "source": [
    "address[-5:]"
   ]
  },
  {
   "cell_type": "code",
   "execution_count": 79,
   "metadata": {},
   "outputs": [
    {
     "data": {
      "text/plain": [
       "'10011'"
      ]
     },
     "execution_count": 79,
     "metadata": {},
     "output_type": "execute_result"
    }
   ],
   "source": [
    "zipcode = address.split(\" \")[-1]\n",
    "zipcode"
   ]
  },
  {
   "cell_type": "markdown",
   "metadata": {},
   "source": [
    "## Step 2: Put it all in one cell"
   ]
  },
  {
   "cell_type": "code",
   "execution_count": 80,
   "metadata": {},
   "outputs": [
    {
     "name": "stdout",
     "output_type": "stream",
     "text": [
      "Address is 39 W 19th St\n",
      "New York, NY 10011\n",
      "Zip code is 10011\n"
     ]
    }
   ],
   "source": [
    "# Open up a Chrome\n",
    "driver = webdriver.Chrome()\n",
    "\n",
    "# Visit the URL\n",
    "url = \"https://www.yelp.com/biz/burger-and-lobster-new-york?osq=burgers\"\n",
    "driver.get(url)\n",
    "address = driver.find_element_by_class_name(\"street-address\").text\n",
    "zipcode = address.split(\" \")[-1]\n",
    "\n",
    "print(\"Address is\", address)\n",
    "print(\"Zip code is\", zipcode)"
   ]
  },
  {
   "cell_type": "markdown",
   "metadata": {},
   "source": [
    "## Step 3: Turn it into a function that takes a `row`\n",
    "\n",
    "This will return a dataframe"
   ]
  },
  {
   "cell_type": "code",
   "execution_count": 88,
   "metadata": {},
   "outputs": [],
   "source": [
    "def get_address_info(row):\n",
    "    # Visit the URL from the row\n",
    "    driver.get(row['url'])\n",
    "    \n",
    "    # Grab the address\n",
    "    address = driver.find_element_by_class_name(\"street-address\").text\n",
    "    zipcode = address.split(\" \")[-1]\n",
    "\n",
    "    # Print it out\n",
    "    print(\"Address is\", address)\n",
    "    print(\"Zip code is\", zipcode)\n",
    "\n",
    "    # Return the zipcode and the address\n",
    "    # The things in the quotes are the new column names\n",
    "    return pd.Series({\n",
    "        'zipcode': zipcode,\n",
    "        'address': address\n",
    "    })"
   ]
  },
  {
   "cell_type": "code",
   "execution_count": 91,
   "metadata": {},
   "outputs": [
    {
     "name": "stdout",
     "output_type": "stream",
     "text": [
      "Address is 39 W 19th St\n",
      "New York, NY 10011\n",
      "Zip code is 10011\n",
      "Address is 39 W 19th St\n",
      "New York, NY 10011\n",
      "Zip code is 10011\n",
      "Address is 67 Clinton St\n",
      "New York, NY 10002\n",
      "Zip code is 10002\n",
      "Address is 225 S 1st St\n",
      "Brooklyn, NY 11211\n",
      "Zip code is 11211\n",
      "Address is 245 W 38th St\n",
      "New York, NY 10018\n",
      "Zip code is 10018\n",
      "Address is 181 Essex St\n",
      "New York, NY 10002\n",
      "Zip code is 10002\n",
      "Address is 83 Baxter St\n",
      "New York, NY 10013\n",
      "Zip code is 10013\n",
      "Address is 282 Atlantic Ave\n",
      "Brooklyn, NY 11201\n",
      "Zip code is 11201\n",
      "Address is 131 2nd Ave\n",
      "New York, NY 10003\n",
      "Zip code is 10003\n",
      "Address is 32-02 30th Ave\n",
      "Astoria, NY 11102\n",
      "Zip code is 11102\n",
      "Address is 259 5th Ave\n",
      "Brooklyn, NY 11215\n",
      "Zip code is 11215\n"
     ]
    },
    {
     "data": {
      "text/html": [
       "<div>\n",
       "<style scoped>\n",
       "    .dataframe tbody tr th:only-of-type {\n",
       "        vertical-align: middle;\n",
       "    }\n",
       "\n",
       "    .dataframe tbody tr th {\n",
       "        vertical-align: top;\n",
       "    }\n",
       "\n",
       "    .dataframe thead th {\n",
       "        text-align: right;\n",
       "    }\n",
       "</style>\n",
       "<table border=\"1\" class=\"dataframe\">\n",
       "  <thead>\n",
       "    <tr style=\"text-align: right;\">\n",
       "      <th></th>\n",
       "      <th>address</th>\n",
       "      <th>zipcode</th>\n",
       "      <th>categories</th>\n",
       "      <th>name</th>\n",
       "      <th>price</th>\n",
       "      <th>rating</th>\n",
       "      <th>url</th>\n",
       "      <th>price_range</th>\n",
       "      <th>somas_opinion</th>\n",
       "    </tr>\n",
       "  </thead>\n",
       "  <tbody>\n",
       "    <tr>\n",
       "      <th>0</th>\n",
       "      <td>39 W 19th St\\nNew York, NY 10011</td>\n",
       "      <td>10011</td>\n",
       "      <td>Seafood, Burgers</td>\n",
       "      <td>Burger &amp; Lobster</td>\n",
       "      <td>$$</td>\n",
       "      <td>4.0</td>\n",
       "      <td>https://www.yelp.com/biz/burger-and-lobster-ne...</td>\n",
       "      <td>normal</td>\n",
       "      <td>hate</td>\n",
       "    </tr>\n",
       "    <tr>\n",
       "      <th>1</th>\n",
       "      <td>67 Clinton St\\nNew York, NY 10002</td>\n",
       "      <td>10002</td>\n",
       "      <td>Burgers</td>\n",
       "      <td>The Burgary</td>\n",
       "      <td>$$</td>\n",
       "      <td>4.5</td>\n",
       "      <td>https://www.yelp.com/biz/the-burgary-new-york?...</td>\n",
       "      <td>normal</td>\n",
       "      <td>hate</td>\n",
       "    </tr>\n",
       "    <tr>\n",
       "      <th>2</th>\n",
       "      <td>225 S 1st St\\nBrooklyn, NY 11211</td>\n",
       "      <td>11211</td>\n",
       "      <td>Gastropubs, Burgers</td>\n",
       "      <td>Juanchi’s Burger</td>\n",
       "      <td>$$</td>\n",
       "      <td>4.5</td>\n",
       "      <td>https://www.yelp.com/biz/juanchis-burger-brook...</td>\n",
       "      <td>normal</td>\n",
       "      <td>hate</td>\n",
       "    </tr>\n",
       "    <tr>\n",
       "      <th>3</th>\n",
       "      <td>245 W 38th St\\nNew York, NY 10018</td>\n",
       "      <td>10018</td>\n",
       "      <td>Burgers</td>\n",
       "      <td>Black Iron Burger</td>\n",
       "      <td>$$</td>\n",
       "      <td>4.0</td>\n",
       "      <td>https://www.yelp.com/biz/black-iron-burger-new...</td>\n",
       "      <td>normal</td>\n",
       "      <td>hate</td>\n",
       "    </tr>\n",
       "    <tr>\n",
       "      <th>4</th>\n",
       "      <td>181 Essex St\\nNew York, NY 10002</td>\n",
       "      <td>10002</td>\n",
       "      <td>American (New), Breakfast &amp; Brunch, Burgers</td>\n",
       "      <td>Benson’s NYC</td>\n",
       "      <td>$$</td>\n",
       "      <td>4.5</td>\n",
       "      <td>https://www.yelp.com/biz/bensons-nyc-new-york?...</td>\n",
       "      <td>normal</td>\n",
       "      <td>hate</td>\n",
       "    </tr>\n",
       "    <tr>\n",
       "      <th>5</th>\n",
       "      <td>83 Baxter St\\nNew York, NY 10013</td>\n",
       "      <td>10013</td>\n",
       "      <td>Burgers, Mexican</td>\n",
       "      <td>Breakroom</td>\n",
       "      <td>$</td>\n",
       "      <td>4.5</td>\n",
       "      <td>https://www.yelp.com/biz/breakroom-new-york?os...</td>\n",
       "      <td>cheap</td>\n",
       "      <td>love</td>\n",
       "    </tr>\n",
       "    <tr>\n",
       "      <th>6</th>\n",
       "      <td>282 Atlantic Ave\\nBrooklyn, NY 11201</td>\n",
       "      <td>11201</td>\n",
       "      <td>Burgers, Bars</td>\n",
       "      <td>Two 8 Two Bar &amp; Burger</td>\n",
       "      <td>$$</td>\n",
       "      <td>4.0</td>\n",
       "      <td>https://www.yelp.com/biz/two-8-two-bar-and-bur...</td>\n",
       "      <td>normal</td>\n",
       "      <td>hate</td>\n",
       "    </tr>\n",
       "    <tr>\n",
       "      <th>7</th>\n",
       "      <td>131 2nd Ave\\nNew York, NY 10003</td>\n",
       "      <td>10003</td>\n",
       "      <td>Burgers</td>\n",
       "      <td>Paul’s Da Burger Joint</td>\n",
       "      <td>$</td>\n",
       "      <td>4.0</td>\n",
       "      <td>https://www.yelp.com/biz/pauls-da-burger-joint...</td>\n",
       "      <td>cheap</td>\n",
       "      <td>love</td>\n",
       "    </tr>\n",
       "    <tr>\n",
       "      <th>8</th>\n",
       "      <td>32-02 30th Ave\\nAstoria, NY 11102</td>\n",
       "      <td>11102</td>\n",
       "      <td>Burgers</td>\n",
       "      <td>Burger Club</td>\n",
       "      <td>$$</td>\n",
       "      <td>4.0</td>\n",
       "      <td>https://www.yelp.com/biz/burger-club-astoria?o...</td>\n",
       "      <td>normal</td>\n",
       "      <td>hate</td>\n",
       "    </tr>\n",
       "    <tr>\n",
       "      <th>9</th>\n",
       "      <td>259 5th Ave\\nBrooklyn, NY 11215</td>\n",
       "      <td>11215</td>\n",
       "      <td>Gastropubs, Burgers, Beer, Wine &amp; Spirits</td>\n",
       "      <td>Brooklyn Burgers &amp; Beer</td>\n",
       "      <td>$$</td>\n",
       "      <td>4.0</td>\n",
       "      <td>https://www.yelp.com/biz/brooklyn-burgers-and-...</td>\n",
       "      <td>normal</td>\n",
       "      <td>hate</td>\n",
       "    </tr>\n",
       "  </tbody>\n",
       "</table>\n",
       "</div>"
      ],
      "text/plain": [
       "                                address zipcode  \\\n",
       "0      39 W 19th St\\nNew York, NY 10011   10011   \n",
       "1     67 Clinton St\\nNew York, NY 10002   10002   \n",
       "2      225 S 1st St\\nBrooklyn, NY 11211   11211   \n",
       "3     245 W 38th St\\nNew York, NY 10018   10018   \n",
       "4      181 Essex St\\nNew York, NY 10002   10002   \n",
       "5      83 Baxter St\\nNew York, NY 10013   10013   \n",
       "6  282 Atlantic Ave\\nBrooklyn, NY 11201   11201   \n",
       "7       131 2nd Ave\\nNew York, NY 10003   10003   \n",
       "8     32-02 30th Ave\\nAstoria, NY 11102   11102   \n",
       "9       259 5th Ave\\nBrooklyn, NY 11215   11215   \n",
       "\n",
       "                                    categories                     name price  \\\n",
       "0                             Seafood, Burgers         Burger & Lobster    $$   \n",
       "1                                      Burgers              The Burgary    $$   \n",
       "2                          Gastropubs, Burgers         Juanchi’s Burger    $$   \n",
       "3                                      Burgers        Black Iron Burger    $$   \n",
       "4  American (New), Breakfast & Brunch, Burgers             Benson’s NYC    $$   \n",
       "5                             Burgers, Mexican                Breakroom     $   \n",
       "6                                Burgers, Bars   Two 8 Two Bar & Burger    $$   \n",
       "7                                      Burgers   Paul’s Da Burger Joint     $   \n",
       "8                                      Burgers              Burger Club    $$   \n",
       "9    Gastropubs, Burgers, Beer, Wine & Spirits  Brooklyn Burgers & Beer    $$   \n",
       "\n",
       "   rating                                                url price_range  \\\n",
       "0     4.0  https://www.yelp.com/biz/burger-and-lobster-ne...      normal   \n",
       "1     4.5  https://www.yelp.com/biz/the-burgary-new-york?...      normal   \n",
       "2     4.5  https://www.yelp.com/biz/juanchis-burger-brook...      normal   \n",
       "3     4.0  https://www.yelp.com/biz/black-iron-burger-new...      normal   \n",
       "4     4.5  https://www.yelp.com/biz/bensons-nyc-new-york?...      normal   \n",
       "5     4.5  https://www.yelp.com/biz/breakroom-new-york?os...       cheap   \n",
       "6     4.0  https://www.yelp.com/biz/two-8-two-bar-and-bur...      normal   \n",
       "7     4.0  https://www.yelp.com/biz/pauls-da-burger-joint...       cheap   \n",
       "8     4.0  https://www.yelp.com/biz/burger-club-astoria?o...      normal   \n",
       "9     4.0  https://www.yelp.com/biz/brooklyn-burgers-and-...      normal   \n",
       "\n",
       "  somas_opinion  \n",
       "0          hate  \n",
       "1          hate  \n",
       "2          hate  \n",
       "3          hate  \n",
       "4          hate  \n",
       "5          love  \n",
       "6          hate  \n",
       "7          love  \n",
       "8          hate  \n",
       "9          hate  "
      ]
     },
     "execution_count": 91,
     "metadata": {},
     "output_type": "execute_result"
    }
   ],
   "source": [
    "# Open up a Chrome\n",
    "# driver = webdriver.Chrome()\n",
    "\n",
    "new_df = df.head(10).apply(get_address_info, axis=1).join(df)\n",
    "new_df"
   ]
  },
  {
   "cell_type": "code",
   "execution_count": 92,
   "metadata": {},
   "outputs": [],
   "source": [
    "new_df.to_csv(\"yelp-with-zipcodes.csv\", index=False)"
   ]
  },
  {
   "cell_type": "markdown",
   "metadata": {},
   "source": [
    "# Step 1: Try to scrape with a single row\n",
    "\n",
    "Visit the [Department of Health violations page](http://a816-restaurantinspection.nyc.gov/RestaurantInspection/SearchBrowse.do) and type the `name` and `zipcode` into the correct fields"
   ]
  },
  {
   "cell_type": "code",
   "execution_count": 95,
   "metadata": {},
   "outputs": [],
   "source": [
    "name = \"Burger & Lobster\"\n",
    "zipcode = \"10011\""
   ]
  },
  {
   "cell_type": "code",
   "execution_count": null,
   "metadata": {},
   "outputs": [],
   "source": [
    "# Visit the URL (you don't need to use a variable name)\n",
    "driver.get(\"http://a816-restaurantinspection.nyc.gov/RestaurantInspection/SearchBrowse.do\")"
   ]
  },
  {
   "cell_type": "code",
   "execution_count": 105,
   "metadata": {},
   "outputs": [],
   "source": [
    "# Type in the values using Selenium .send_keys\n",
    "import time\n",
    "\n",
    "driver.find_element_by_id(\"searchByNameText\").send_keys(\"Burger & Lobster\")\n",
    "driver.find_element_by_id(\"searchByZipCodeText\").send_keys(\"10011\")\n",
    "# Just wait for one second\n",
    "time.sleep(1)"
   ]
  },
  {
   "cell_type": "code",
   "execution_count": 106,
   "metadata": {},
   "outputs": [],
   "source": [
    "button = driver.find_element_by_name(\"button_display\")\n",
    "button.click()"
   ]
  },
  {
   "cell_type": "code",
   "execution_count": 107,
   "metadata": {},
   "outputs": [],
   "source": [
    "# Find the thing with the class 'resultCell'\n",
    "# and then find the link inside of that\n",
    "# Then click it\n",
    "time.sleep(1)\n",
    "driver.find_element_by_class_name(\"resultCell\").find_element_by_tag_name(\"a\").click()"
   ]
  },
  {
   "cell_type": "code",
   "execution_count": 108,
   "metadata": {},
   "outputs": [],
   "source": [
    "time.sleep(1)\n",
    "points = driver.find_element_by_id(\"violationScore\").text\n",
    "violations = driver.find_element_by_id(\"violationDesc\").text"
   ]
  },
  {
   "cell_type": "code",
   "execution_count": 109,
   "metadata": {},
   "outputs": [
    {
     "data": {
      "text/plain": [
       "'Violation points: 12'"
      ]
     },
     "execution_count": 109,
     "metadata": {},
     "output_type": "execute_result"
    }
   ],
   "source": [
    "points"
   ]
  },
  {
   "cell_type": "code",
   "execution_count": 110,
   "metadata": {},
   "outputs": [
    {
     "data": {
      "text/plain": [
       "'Sanitary Violations\\n1) Cold food item held above 41º F (smoked fish and reduced oxygen packaged foods above 38 ºF) except during necessary preparation.\\n2) Thawing procedures improper.\\n3) Non-food contact surface improperly constructed. Unacceptable material used. Non-food contact surface or equipment improperly maintained and/or not properly sealed, raised, spaced or movable to allow accessibility for cleaning on all sides, above and underneath the unit.'"
      ]
     },
     "execution_count": 110,
     "metadata": {},
     "output_type": "execute_result"
    }
   ],
   "source": [
    "violations"
   ]
  },
  {
   "cell_type": "markdown",
   "metadata": {},
   "source": [
    "## Step 2: Move everything into one cell"
   ]
  },
  {
   "cell_type": "code",
   "execution_count": 111,
   "metadata": {},
   "outputs": [
    {
     "name": "stdout",
     "output_type": "stream",
     "text": [
      "Points look like Violation points: 12\n",
      "Violations look like Sanitary Violations\n",
      "1) Cold food item held above 41º F (smoked fish and reduced oxygen packaged foods above 38 ºF) except during necessary preparation.\n",
      "2) Thawing procedures improper.\n",
      "3) Non-food contact surface improperly constructed. Unacceptable material used. Non-food contact surface or equipment improperly maintained and/or not properly sealed, raised, spaced or movable to allow accessibility for cleaning on all sides, above and underneath the unit.\n"
     ]
    }
   ],
   "source": [
    "import time\n",
    "\n",
    "# Visit the URL (you don't need to use a variable name)\n",
    "driver.get(\"http://a816-restaurantinspection.nyc.gov/RestaurantInspection/SearchBrowse.do\")\n",
    "\n",
    "# Type in the values using Selenium .send_keys\n",
    "driver.find_element_by_id(\"searchByNameText\").send_keys(\"Burger & Lobster\")\n",
    "driver.find_element_by_id(\"searchByZipCodeText\").send_keys(\"10011\")\n",
    "\n",
    "# Just wait for one second\n",
    "time.sleep(1)\n",
    "\n",
    "button = driver.find_element_by_name(\"button_display\")\n",
    "button.click()\n",
    "\n",
    "time.sleep(1)\n",
    "driver.find_element_by_class_name(\"resultCell\").find_element_by_tag_name(\"a\").click()\n",
    "\n",
    "time.sleep(1)\n",
    "points = driver.find_element_by_id(\"violationScore\").text\n",
    "violations = driver.find_element_by_id(\"violationDesc\").text\n",
    "\n",
    "print(\"Points look like\", points)\n",
    "print(\"Violations look like\", violations)"
   ]
  },
  {
   "cell_type": "markdown",
   "metadata": {},
   "source": [
    "## Step 3: Convert into a function\n",
    "\n",
    "Make sure you use `row['whatever']` instead of your original values (`name` or `url` or whatever you are searching for).\n",
    "\n",
    "1. Indent\n",
    "2. Do the `def functionname(row):` thing\n",
    "3. Change any variables that need to be about the row\n",
    "4. Return `pd.Series` etc etc"
   ]
  },
  {
   "cell_type": "code",
   "execution_count": 118,
   "metadata": {},
   "outputs": [],
   "source": [
    "def get_violations(row):\n",
    "    try:\n",
    "        # Visit the URL (you don't need to use a variable name)\n",
    "        driver.get(\"http://a816-restaurantinspection.nyc.gov/RestaurantInspection/SearchBrowse.do\")\n",
    "\n",
    "        # Type in the values using Selenium .send_keys\n",
    "        # Use the values from the row - treat it like a dictionary\n",
    "        driver.find_element_by_id(\"searchByNameText\").send_keys(row['name'])\n",
    "        driver.find_element_by_id(\"searchByZipCodeText\").send_keys(row['zipcode'])\n",
    "\n",
    "        # Just wait for one second\n",
    "        time.sleep(1)\n",
    "\n",
    "        button = driver.find_element_by_name(\"button_display\")\n",
    "        button.click()\n",
    "\n",
    "        time.sleep(1)\n",
    "        driver.find_element_by_class_name(\"resultCell\").find_element_by_tag_name(\"a\").click()\n",
    "\n",
    "        time.sleep(1)\n",
    "        points = driver.find_element_by_id(\"violationScore\").text\n",
    "        violations = driver.find_element_by_id(\"violationDesc\").text\n",
    "\n",
    "        print(\"Points look like\", points)\n",
    "        print(\"Violations look like\", violations)\n",
    "\n",
    "        return pd.Series({\n",
    "            'points': points,\n",
    "            'violations': violations\n",
    "        })\n",
    "    except:\n",
    "        return pd.Series({})"
   ]
  },
  {
   "cell_type": "code",
   "execution_count": 119,
   "metadata": {},
   "outputs": [
    {
     "name": "stdout",
     "output_type": "stream",
     "text": [
      "Points look like Violation points: 12\n",
      "Violations look like Sanitary Violations\n",
      "1) Cold food item held above 41º F (smoked fish and reduced oxygen packaged foods above 38 ºF) except during necessary preparation.\n",
      "2) Thawing procedures improper.\n",
      "3) Non-food contact surface improperly constructed. Unacceptable material used. Non-food contact surface or equipment improperly maintained and/or not properly sealed, raised, spaced or movable to allow accessibility for cleaning on all sides, above and underneath the unit.\n",
      "Points look like Violation points: 12\n",
      "Violations look like Sanitary Violations\n",
      "1) Cold food item held above 41º F (smoked fish and reduced oxygen packaged foods above 38 ºF) except during necessary preparation.\n",
      "2) Thawing procedures improper.\n",
      "3) Non-food contact surface improperly constructed. Unacceptable material used. Non-food contact surface or equipment improperly maintained and/or not properly sealed, raised, spaced or movable to allow accessibility for cleaning on all sides, above and underneath the unit.\n",
      "Points look like Violation points: 23\n",
      "Violations look like Sanitary Violations\n",
      "1) Food worker does not use proper utensil to eliminate bare hand contact with food that will not receive adequate additional heat treatment.\n",
      "2) Evidence of rats or live rats present in facility's food and/or non-food areas.\n",
      "3) Food not protected from potential source of contamination during storage, preparation, transportation, display or service.\n",
      "4) Facility not vermin proof. Harborage or conditions conducive to attracting vermin to the premises and/or allowing vermin to exist.\n",
      "Points look like Violation points: 13\n",
      "Violations look like Sanitary Violations\n",
      "1) Food not protected from potential source of contamination during storage, preparation, transportation, display or service.\n",
      "2) Food contact surface not properly washed, rinsed and sanitized after each use and following any activity when contamination may have occurred.\n",
      "Points look like Violation points: 8\n",
      "Violations look like Sanitary Violations\n",
      "1) Wiping cloths soiled or not stored in sanitizing solution.\n",
      "2) Accurate thermometer not provided in refrigerated or hot holding equipment.\n",
      "Points look like Violation points: 10\n",
      "Violations look like Sanitary Violations\n",
      "1) Filth flies or food/refuse/sewage-associated (FRSA) flies present in facility’s food and/or non-food areas. Filth flies include house flies, little house flies, blow flies, bottle flies and flesh flies. Food/refuse/sewage-associated flies include fruit flies, drain flies and Phorid flies.\n",
      "2) Facility not vermin proof. Harborage or conditions conducive to attracting vermin to the premises and/or allowing vermin to exist.\n",
      "Points look like Violation points: 6\n",
      "Violations look like Sanitary Violations\n",
      "1) Food contact surface not properly washed, rinsed and sanitized after each use and following any activity when contamination may have occurred.\n",
      "Points look like Violation points: 9\n",
      "Violations look like Sanitary Violations\n",
      "1) Food not protected from potential source of contamination during storage, preparation, transportation, display or service.\n",
      "2) Plumbing not properly installed or maintained; anti-siphonage or backflow prevention device not provided where required; equipment or floor not properly drained; sewage disposal system in disrepair or not functioning properly.\n",
      "3) Non-food contact surface improperly constructed. Unacceptable material used. Non-food contact surface or equipment improperly maintained and/or not properly sealed, raised, spaced or movable to allow accessibility for cleaning on all sides, above and underneath the unit.\n",
      "Points look like Violation points: 10\n",
      "Violations look like Sanitary Violations\n",
      "1) Evidence of mice or live mice present in facility's food and/or non-food areas.\n",
      "2) Facility not vermin proof. Harborage or conditions conducive to attracting vermin to the premises and/or allowing vermin to exist.\n"
     ]
    },
    {
     "data": {
      "text/html": [
       "<div>\n",
       "<style scoped>\n",
       "    .dataframe tbody tr th:only-of-type {\n",
       "        vertical-align: middle;\n",
       "    }\n",
       "\n",
       "    .dataframe tbody tr th {\n",
       "        vertical-align: top;\n",
       "    }\n",
       "\n",
       "    .dataframe thead th {\n",
       "        text-align: right;\n",
       "    }\n",
       "</style>\n",
       "<table border=\"1\" class=\"dataframe\">\n",
       "  <thead>\n",
       "    <tr style=\"text-align: right;\">\n",
       "      <th></th>\n",
       "      <th>points</th>\n",
       "      <th>violations</th>\n",
       "      <th>address</th>\n",
       "      <th>zipcode</th>\n",
       "      <th>categories</th>\n",
       "      <th>name</th>\n",
       "      <th>price</th>\n",
       "      <th>rating</th>\n",
       "      <th>url</th>\n",
       "      <th>price_range</th>\n",
       "      <th>somas_opinion</th>\n",
       "    </tr>\n",
       "  </thead>\n",
       "  <tbody>\n",
       "    <tr>\n",
       "      <th>0</th>\n",
       "      <td>Violation points: 12</td>\n",
       "      <td>Sanitary Violations\\n1) Cold food item held ab...</td>\n",
       "      <td>39 W 19th St\\nNew York, NY 10011</td>\n",
       "      <td>10011</td>\n",
       "      <td>Seafood, Burgers</td>\n",
       "      <td>Burger &amp; Lobster</td>\n",
       "      <td>$$</td>\n",
       "      <td>4.0</td>\n",
       "      <td>https://www.yelp.com/biz/burger-and-lobster-ne...</td>\n",
       "      <td>normal</td>\n",
       "      <td>hate</td>\n",
       "    </tr>\n",
       "    <tr>\n",
       "      <th>1</th>\n",
       "      <td>Violation points: 23</td>\n",
       "      <td>Sanitary Violations\\n1) Food worker does not u...</td>\n",
       "      <td>67 Clinton St\\nNew York, NY 10002</td>\n",
       "      <td>10002</td>\n",
       "      <td>Burgers</td>\n",
       "      <td>The Burgary</td>\n",
       "      <td>$$</td>\n",
       "      <td>4.5</td>\n",
       "      <td>https://www.yelp.com/biz/the-burgary-new-york?...</td>\n",
       "      <td>normal</td>\n",
       "      <td>hate</td>\n",
       "    </tr>\n",
       "    <tr>\n",
       "      <th>2</th>\n",
       "      <td>Violation points: 13</td>\n",
       "      <td>Sanitary Violations\\n1) Food not protected fro...</td>\n",
       "      <td>225 S 1st St\\nBrooklyn, NY 11211</td>\n",
       "      <td>11211</td>\n",
       "      <td>Gastropubs, Burgers</td>\n",
       "      <td>Juanchi’s Burger</td>\n",
       "      <td>$$</td>\n",
       "      <td>4.5</td>\n",
       "      <td>https://www.yelp.com/biz/juanchis-burger-brook...</td>\n",
       "      <td>normal</td>\n",
       "      <td>hate</td>\n",
       "    </tr>\n",
       "    <tr>\n",
       "      <th>3</th>\n",
       "      <td>Violation points: 8</td>\n",
       "      <td>Sanitary Violations\\n1) Wiping cloths soiled o...</td>\n",
       "      <td>245 W 38th St\\nNew York, NY 10018</td>\n",
       "      <td>10018</td>\n",
       "      <td>Burgers</td>\n",
       "      <td>Black Iron Burger</td>\n",
       "      <td>$$</td>\n",
       "      <td>4.0</td>\n",
       "      <td>https://www.yelp.com/biz/black-iron-burger-new...</td>\n",
       "      <td>normal</td>\n",
       "      <td>hate</td>\n",
       "    </tr>\n",
       "    <tr>\n",
       "      <th>4</th>\n",
       "      <td>Violation points: 10</td>\n",
       "      <td>Sanitary Violations\\n1) Filth flies or food/re...</td>\n",
       "      <td>181 Essex St\\nNew York, NY 10002</td>\n",
       "      <td>10002</td>\n",
       "      <td>American (New), Breakfast &amp; Brunch, Burgers</td>\n",
       "      <td>Benson’s NYC</td>\n",
       "      <td>$$</td>\n",
       "      <td>4.5</td>\n",
       "      <td>https://www.yelp.com/biz/bensons-nyc-new-york?...</td>\n",
       "      <td>normal</td>\n",
       "      <td>hate</td>\n",
       "    </tr>\n",
       "    <tr>\n",
       "      <th>5</th>\n",
       "      <td>NaN</td>\n",
       "      <td>NaN</td>\n",
       "      <td>83 Baxter St\\nNew York, NY 10013</td>\n",
       "      <td>10013</td>\n",
       "      <td>Burgers, Mexican</td>\n",
       "      <td>Breakroom</td>\n",
       "      <td>$</td>\n",
       "      <td>4.5</td>\n",
       "      <td>https://www.yelp.com/biz/breakroom-new-york?os...</td>\n",
       "      <td>cheap</td>\n",
       "      <td>love</td>\n",
       "    </tr>\n",
       "    <tr>\n",
       "      <th>6</th>\n",
       "      <td>NaN</td>\n",
       "      <td>NaN</td>\n",
       "      <td>282 Atlantic Ave\\nBrooklyn, NY 11201</td>\n",
       "      <td>11201</td>\n",
       "      <td>Burgers, Bars</td>\n",
       "      <td>Two 8 Two Bar &amp; Burger</td>\n",
       "      <td>$$</td>\n",
       "      <td>4.0</td>\n",
       "      <td>https://www.yelp.com/biz/two-8-two-bar-and-bur...</td>\n",
       "      <td>normal</td>\n",
       "      <td>hate</td>\n",
       "    </tr>\n",
       "    <tr>\n",
       "      <th>7</th>\n",
       "      <td>Violation points: 6</td>\n",
       "      <td>Sanitary Violations\\n1) Food contact surface n...</td>\n",
       "      <td>131 2nd Ave\\nNew York, NY 10003</td>\n",
       "      <td>10003</td>\n",
       "      <td>Burgers</td>\n",
       "      <td>Paul’s Da Burger Joint</td>\n",
       "      <td>$</td>\n",
       "      <td>4.0</td>\n",
       "      <td>https://www.yelp.com/biz/pauls-da-burger-joint...</td>\n",
       "      <td>cheap</td>\n",
       "      <td>love</td>\n",
       "    </tr>\n",
       "    <tr>\n",
       "      <th>8</th>\n",
       "      <td>Violation points: 9</td>\n",
       "      <td>Sanitary Violations\\n1) Food not protected fro...</td>\n",
       "      <td>32-02 30th Ave\\nAstoria, NY 11102</td>\n",
       "      <td>11102</td>\n",
       "      <td>Burgers</td>\n",
       "      <td>Burger Club</td>\n",
       "      <td>$$</td>\n",
       "      <td>4.0</td>\n",
       "      <td>https://www.yelp.com/biz/burger-club-astoria?o...</td>\n",
       "      <td>normal</td>\n",
       "      <td>hate</td>\n",
       "    </tr>\n",
       "    <tr>\n",
       "      <th>9</th>\n",
       "      <td>Violation points: 10</td>\n",
       "      <td>Sanitary Violations\\n1) Evidence of mice or li...</td>\n",
       "      <td>259 5th Ave\\nBrooklyn, NY 11215</td>\n",
       "      <td>11215</td>\n",
       "      <td>Gastropubs, Burgers, Beer, Wine &amp; Spirits</td>\n",
       "      <td>Brooklyn Burgers &amp; Beer</td>\n",
       "      <td>$$</td>\n",
       "      <td>4.0</td>\n",
       "      <td>https://www.yelp.com/biz/brooklyn-burgers-and-...</td>\n",
       "      <td>normal</td>\n",
       "      <td>hate</td>\n",
       "    </tr>\n",
       "  </tbody>\n",
       "</table>\n",
       "</div>"
      ],
      "text/plain": [
       "                 points                                         violations  \\\n",
       "0  Violation points: 12  Sanitary Violations\\n1) Cold food item held ab...   \n",
       "1  Violation points: 23  Sanitary Violations\\n1) Food worker does not u...   \n",
       "2  Violation points: 13  Sanitary Violations\\n1) Food not protected fro...   \n",
       "3   Violation points: 8  Sanitary Violations\\n1) Wiping cloths soiled o...   \n",
       "4  Violation points: 10  Sanitary Violations\\n1) Filth flies or food/re...   \n",
       "5                   NaN                                                NaN   \n",
       "6                   NaN                                                NaN   \n",
       "7   Violation points: 6  Sanitary Violations\\n1) Food contact surface n...   \n",
       "8   Violation points: 9  Sanitary Violations\\n1) Food not protected fro...   \n",
       "9  Violation points: 10  Sanitary Violations\\n1) Evidence of mice or li...   \n",
       "\n",
       "                                address zipcode  \\\n",
       "0      39 W 19th St\\nNew York, NY 10011   10011   \n",
       "1     67 Clinton St\\nNew York, NY 10002   10002   \n",
       "2      225 S 1st St\\nBrooklyn, NY 11211   11211   \n",
       "3     245 W 38th St\\nNew York, NY 10018   10018   \n",
       "4      181 Essex St\\nNew York, NY 10002   10002   \n",
       "5      83 Baxter St\\nNew York, NY 10013   10013   \n",
       "6  282 Atlantic Ave\\nBrooklyn, NY 11201   11201   \n",
       "7       131 2nd Ave\\nNew York, NY 10003   10003   \n",
       "8     32-02 30th Ave\\nAstoria, NY 11102   11102   \n",
       "9       259 5th Ave\\nBrooklyn, NY 11215   11215   \n",
       "\n",
       "                                    categories                     name price  \\\n",
       "0                             Seafood, Burgers         Burger & Lobster    $$   \n",
       "1                                      Burgers              The Burgary    $$   \n",
       "2                          Gastropubs, Burgers         Juanchi’s Burger    $$   \n",
       "3                                      Burgers        Black Iron Burger    $$   \n",
       "4  American (New), Breakfast & Brunch, Burgers             Benson’s NYC    $$   \n",
       "5                             Burgers, Mexican                Breakroom     $   \n",
       "6                                Burgers, Bars   Two 8 Two Bar & Burger    $$   \n",
       "7                                      Burgers   Paul’s Da Burger Joint     $   \n",
       "8                                      Burgers              Burger Club    $$   \n",
       "9    Gastropubs, Burgers, Beer, Wine & Spirits  Brooklyn Burgers & Beer    $$   \n",
       "\n",
       "   rating                                                url price_range  \\\n",
       "0     4.0  https://www.yelp.com/biz/burger-and-lobster-ne...      normal   \n",
       "1     4.5  https://www.yelp.com/biz/the-burgary-new-york?...      normal   \n",
       "2     4.5  https://www.yelp.com/biz/juanchis-burger-brook...      normal   \n",
       "3     4.0  https://www.yelp.com/biz/black-iron-burger-new...      normal   \n",
       "4     4.5  https://www.yelp.com/biz/bensons-nyc-new-york?...      normal   \n",
       "5     4.5  https://www.yelp.com/biz/breakroom-new-york?os...       cheap   \n",
       "6     4.0  https://www.yelp.com/biz/two-8-two-bar-and-bur...      normal   \n",
       "7     4.0  https://www.yelp.com/biz/pauls-da-burger-joint...       cheap   \n",
       "8     4.0  https://www.yelp.com/biz/burger-club-astoria?o...      normal   \n",
       "9     4.0  https://www.yelp.com/biz/brooklyn-burgers-and-...      normal   \n",
       "\n",
       "  somas_opinion  \n",
       "0          hate  \n",
       "1          hate  \n",
       "2          hate  \n",
       "3          hate  \n",
       "4          hate  \n",
       "5          love  \n",
       "6          hate  \n",
       "7          love  \n",
       "8          hate  \n",
       "9          hate  "
      ]
     },
     "execution_count": 119,
     "metadata": {},
     "output_type": "execute_result"
    }
   ],
   "source": [
    "violations_df = new_df.apply(get_violations, axis=1).join(new_df)\n",
    "violations_df"
   ]
  },
  {
   "cell_type": "code",
   "execution_count": null,
   "metadata": {},
   "outputs": [],
   "source": [
    "violations_df"
   ]
  }
 ],
 "metadata": {
  "kernelspec": {
   "display_name": "Python 3",
   "language": "python",
   "name": "python3"
  },
  "language_info": {
   "codemirror_mode": {
    "name": "ipython",
    "version": 3
   },
   "file_extension": ".py",
   "mimetype": "text/x-python",
   "name": "python",
   "nbconvert_exporter": "python",
   "pygments_lexer": "ipython3",
   "version": "3.6.4"
  }
 },
 "nbformat": 4,
 "nbformat_minor": 2
}
